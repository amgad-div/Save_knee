{
  "nbformat": 4,
  "nbformat_minor": 0,
  "metadata": {
    "colab": {
      "provenance": []
    },
    "kernelspec": {
      "name": "python3",
      "display_name": "Python 3"
    },
    "language_info": {
      "name": "python"
    }
  },
  "cells": [
    {
      "cell_type": "markdown",
      "source": [
        "# LOW LIMB CLASSIFICATION \n",
        "classification signal from low limb "
      ],
      "metadata": {
        "id": "JQeP3W1ueYFA"
      }
    },
    {
      "cell_type": "markdown",
      "source": [
        "load data from txt file into pandas dataframe and make base model (lstm)"
      ],
      "metadata": {
        "id": "AwMBIpQrH4_-"
      }
    },
    {
      "cell_type": "code",
      "source": [
        "# get data from google drive \n",
        "from google.colab import drive\n",
        "drive.mount('/content/drive')"
      ],
      "metadata": {
        "id": "y4MiWKIxgMVQ",
        "colab": {
          "base_uri": "https://localhost:8080/"
        },
        "outputId": "16a2b54b-9a1a-4f9e-d608-82226372b3a0"
      },
      "execution_count": null,
      "outputs": [
        {
          "output_type": "stream",
          "name": "stdout",
          "text": [
            "Mounted at /content/drive\n"
          ]
        }
      ]
    },
    {
      "cell_type": "markdown",
      "source": [
        "## import library "
      ],
      "metadata": {
        "id": "B-3r76ZHeusC"
      }
    },
    {
      "cell_type": "code",
      "source": [
        "import pandas as pd\n",
        "import numpy as np \n",
        "import matplotlib.pyplot as plt\n",
        "import seaborn as sns \n",
        "\n",
        "import os "
      ],
      "metadata": {
        "id": "qGhoc1wbgtLv"
      },
      "execution_count": null,
      "outputs": []
    },
    {
      "cell_type": "markdown",
      "source": [
        "## preprocessing data "
      ],
      "metadata": {
        "id": "6FzlX7lOe9W4"
      }
    },
    {
      "cell_type": "code",
      "source": [
        "## Data Directory\n",
        "data_dir = '/content/drive/MyDrive/SEMG_DB1'\n",
        "\n",
        "## Normal SEMG dataset\n",
        "n_data = \"/content/drive/MyDrive/SEMG_DB1/N_TXT/\"\n",
        "\n",
        "## Abnormal SEMG dataset\n",
        "a_data = \"/content/drive/MyDrive/SEMG_DB1/A_TXT/\"\n"
      ],
      "metadata": {
        "id": "PsuYHGYzi0ll"
      },
      "execution_count": null,
      "outputs": []
    },
    {
      "cell_type": "code",
      "source": [
        "## go thougth the data files \n",
        "for dirpath, dirnames, filenames in os.walk('/content/drive/MyDrive/SEMG_DB1'):\n",
        "  print(f'There are {len(dirnames)} dirctory and {len(filenames)} TXT in \"{dirpath}\" .') "
      ],
      "metadata": {
        "colab": {
          "base_uri": "https://localhost:8080/"
        },
        "id": "XHtSoL9aX4Io",
        "outputId": "89bce3e7-fbd1-4829-987e-ecdeedc1ccda"
      },
      "execution_count": null,
      "outputs": [
        {
          "output_type": "stream",
          "name": "stdout",
          "text": [
            "There are 5 dirctory and 5 TXT in \"/content/drive/MyDrive/SEMG_DB1\" .\n",
            "There are 0 dirctory and 33 TXT in \"/content/drive/MyDrive/SEMG_DB1/N_LOG\" .\n",
            "There are 0 dirctory and 33 TXT in \"/content/drive/MyDrive/SEMG_DB1/A_TXT\" .\n",
            "There are 0 dirctory and 33 TXT in \"/content/drive/MyDrive/SEMG_DB1/A_LOG\" .\n",
            "There are 0 dirctory and 33 TXT in \"/content/drive/MyDrive/SEMG_DB1/N_TXT\" .\n",
            "There are 0 dirctory and 0 TXT in \"/content/drive/MyDrive/SEMG_DB1/.ipynb_checkpoints\" .\n"
          ]
        }
      ]
    },
    {
      "cell_type": "code",
      "source": [
        "x_1 =0\n",
        "for __, _, filename in os.walk(n_data):\n",
        "  for i in filename:\n",
        "\n",
        "    with open(f'/content/drive/MyDrive/SEMG_DB1/N_TXT/{i}', 'r') as fp:\n",
        "      x = len(fp.readlines())\n",
        "      # b = x + b\n",
        "      # x_1 = max(x_1,x) \n",
        "  print('Total lines:', x_1) # \n",
        "\n",
        "  "
      ],
      "metadata": {
        "colab": {
          "base_uri": "https://localhost:8080/"
        },
        "id": "I5GW_xujhfe-",
        "outputId": "0e1900b7-8321-436c-f9cb-51a4ee70bc7f"
      },
      "execution_count": null,
      "outputs": [
        {
          "output_type": "stream",
          "name": "stdout",
          "text": [
            "Total lines: 36908\n"
          ]
        }
      ]
    },
    {
      "cell_type": "code",
      "source": [
        "x_1 =0\n",
        "for __, _, filename in os.walk('/content/drive/MyDrive/SEMG_DB1/A_TXT'):\n",
        "  for i in filename:\n",
        "\n",
        "    with open(f'/content/drive/MyDrive/SEMG_DB1/A_TXT/{i}', 'r') as fp:\n",
        "      x = len(fp.readlines())\n",
        "      # b = x + b\n",
        "      x_1 = max(x_1,x) \n",
        "  print('Total lines:', x_1) # \n"
      ],
      "metadata": {
        "colab": {
          "base_uri": "https://localhost:8080/"
        },
        "id": "k1Rc_rBXdSSC",
        "outputId": "630fe4cf-277a-4978-a41d-81793deab4af"
      },
      "execution_count": null,
      "outputs": [
        {
          "output_type": "stream",
          "name": "stdout",
          "text": [
            "Total lines: 69382\n"
          ]
        }
      ]
    },
    {
      "cell_type": "code",
      "source": [
        "idx= 0\n",
        "for filename in os.listdir('/content/drive/MyDrive/SEMG_DB1/N_TXT/'):\n",
        "    if idx == 0 :\n",
        "      idx = idx + 1 \n",
        "      continue\n",
        "\n",
        "    sarray = np.genfromtxt(f'/content/drive/MyDrive/SEMG_DB1/N_TXT/{filename}', skip_header=7, invalid_raise=False)\n",
        "    print(sarray.shape)\n",
        "    if sarray.shape[1] == 6:\n",
        "      sarray1 = sarray[:,:5]\n",
        "    # print(sarray1.shape)\n",
        "    sarray.shape\n",
        "\n",
        "    nnnn = pd.concat([nnnn,pd.DataFrame(sarray)])\n",
        "    # nnnn.head()\n"
      ],
      "metadata": {
        "colab": {
          "base_uri": "https://localhost:8080/"
        },
        "id": "Ygb3mlX-sReK",
        "outputId": "becf15c5-e373-441a-bfeb-37dc816fdca7"
      },
      "execution_count": null,
      "outputs": [
        {
          "output_type": "stream",
          "name": "stdout",
          "text": [
            "(5890, 5)\n",
            "(16848, 5)\n",
            "(9539, 5)\n",
            "(6922, 5)\n"
          ]
        },
        {
          "output_type": "stream",
          "name": "stderr",
          "text": [
            "<ipython-input-28-6a39897c9eb9>:9: ConversionWarning: Some errors were detected !\n",
            "    Line #9547 (got 1 columns instead of 5)\n",
            "    Line #9548 (got 1 columns instead of 5)\n",
            "    Line #9549 (got 1 columns instead of 5)\n",
            "    Line #9550 (got 1 columns instead of 5)\n",
            "    Line #9551 (got 1 columns instead of 5)\n",
            "    Line #9552 (got 1 columns instead of 5)\n",
            "    Line #9553 (got 1 columns instead of 5)\n",
            "    Line #9554 (got 1 columns instead of 5)\n",
            "    Line #9555 (got 1 columns instead of 5)\n",
            "    Line #9556 (got 1 columns instead of 5)\n",
            "    Line #9557 (got 1 columns instead of 5)\n",
            "    Line #9558 (got 1 columns instead of 5)\n",
            "    Line #9559 (got 1 columns instead of 5)\n",
            "    Line #9560 (got 1 columns instead of 5)\n",
            "    Line #9561 (got 1 columns instead of 5)\n",
            "    Line #9562 (got 1 columns instead of 5)\n",
            "    Line #9563 (got 1 columns instead of 5)\n",
            "    Line #9564 (got 1 columns instead of 5)\n",
            "    Line #9565 (got 1 columns instead of 5)\n",
            "    Line #9566 (got 1 columns instead of 5)\n",
            "    Line #9567 (got 1 columns instead of 5)\n",
            "  sarray = np.genfromtxt(f'/content/drive/MyDrive/SEMG_DB1/N_TXT/{filename}', skip_header=7, invalid_raise=False)\n",
            "<ipython-input-28-6a39897c9eb9>:9: ConversionWarning: Some errors were detected !\n",
            "    Line #6930 (got 1 columns instead of 5)\n",
            "    Line #6931 (got 1 columns instead of 5)\n",
            "    Line #6932 (got 1 columns instead of 5)\n",
            "    Line #6933 (got 1 columns instead of 5)\n",
            "    Line #6934 (got 1 columns instead of 5)\n",
            "    Line #6935 (got 1 columns instead of 5)\n",
            "    Line #6936 (got 1 columns instead of 5)\n",
            "    Line #6937 (got 1 columns instead of 5)\n",
            "    Line #6938 (got 1 columns instead of 5)\n",
            "    Line #6939 (got 1 columns instead of 5)\n",
            "    Line #6940 (got 1 columns instead of 5)\n",
            "    Line #6941 (got 1 columns instead of 5)\n",
            "    Line #6942 (got 1 columns instead of 5)\n",
            "    Line #6943 (got 1 columns instead of 5)\n",
            "    Line #6944 (got 1 columns instead of 5)\n",
            "    Line #6945 (got 1 columns instead of 5)\n",
            "    Line #6946 (got 1 columns instead of 5)\n",
            "    Line #6947 (got 1 columns instead of 5)\n",
            "  sarray = np.genfromtxt(f'/content/drive/MyDrive/SEMG_DB1/N_TXT/{filename}', skip_header=7, invalid_raise=False)\n",
            "<ipython-input-28-6a39897c9eb9>:9: ConversionWarning: Some errors were detected !\n",
            "    Line #7530 (got 1 columns instead of 5)\n",
            "    Line #7531 (got 1 columns instead of 5)\n",
            "    Line #7532 (got 1 columns instead of 5)\n",
            "    Line #7533 (got 1 columns instead of 5)\n",
            "    Line #7534 (got 1 columns instead of 5)\n",
            "    Line #7535 (got 1 columns instead of 5)\n",
            "    Line #7536 (got 1 columns instead of 5)\n",
            "    Line #7537 (got 1 columns instead of 5)\n",
            "    Line #7538 (got 1 columns instead of 5)\n",
            "    Line #7539 (got 1 columns instead of 5)\n",
            "    Line #7540 (got 1 columns instead of 5)\n",
            "    Line #7541 (got 1 columns instead of 5)\n",
            "    Line #7542 (got 1 columns instead of 5)\n",
            "    Line #7543 (got 1 columns instead of 5)\n",
            "    Line #7544 (got 1 columns instead of 5)\n",
            "    Line #7545 (got 1 columns instead of 5)\n",
            "    Line #7546 (got 1 columns instead of 5)\n",
            "    Line #7547 (got 1 columns instead of 5)\n",
            "  sarray = np.genfromtxt(f'/content/drive/MyDrive/SEMG_DB1/N_TXT/{filename}', skip_header=7, invalid_raise=False)\n"
          ]
        },
        {
          "output_type": "stream",
          "name": "stdout",
          "text": [
            "(16860, 5)\n",
            "(7522, 5)\n",
            "(15260, 5)\n",
            "(6563, 5)\n"
          ]
        },
        {
          "output_type": "stream",
          "name": "stderr",
          "text": [
            "<ipython-input-28-6a39897c9eb9>:9: ConversionWarning: Some errors were detected !\n",
            "    Line #6571 (got 1 columns instead of 5)\n",
            "    Line #6572 (got 1 columns instead of 5)\n",
            "    Line #6573 (got 1 columns instead of 5)\n",
            "    Line #6574 (got 1 columns instead of 5)\n",
            "    Line #6575 (got 1 columns instead of 5)\n",
            "    Line #6576 (got 1 columns instead of 5)\n",
            "    Line #6577 (got 1 columns instead of 5)\n",
            "    Line #6578 (got 1 columns instead of 5)\n",
            "    Line #6579 (got 1 columns instead of 5)\n",
            "    Line #6580 (got 1 columns instead of 5)\n",
            "    Line #6581 (got 1 columns instead of 5)\n",
            "    Line #6582 (got 1 columns instead of 5)\n",
            "    Line #6583 (got 1 columns instead of 5)\n",
            "    Line #6584 (got 1 columns instead of 5)\n",
            "    Line #6585 (got 1 columns instead of 5)\n",
            "    Line #6586 (got 1 columns instead of 5)\n",
            "    Line #6587 (got 1 columns instead of 5)\n",
            "  sarray = np.genfromtxt(f'/content/drive/MyDrive/SEMG_DB1/N_TXT/{filename}', skip_header=7, invalid_raise=False)\n",
            "<ipython-input-28-6a39897c9eb9>:9: ConversionWarning: Some errors were detected !\n",
            "    Line #15608 (got 4 columns instead of 5)\n",
            "  sarray = np.genfromtxt(f'/content/drive/MyDrive/SEMG_DB1/N_TXT/{filename}', skip_header=7, invalid_raise=False)\n"
          ]
        },
        {
          "output_type": "stream",
          "name": "stdout",
          "text": [
            "(13820, 5)\n",
            "(15600, 5)\n",
            "(15300, 5)\n",
            "(13480, 5)\n",
            "(22460, 5)\n",
            "(21140, 5)\n",
            "(15300, 5)\n",
            "(15940, 5)\n"
          ]
        },
        {
          "output_type": "stream",
          "name": "stderr",
          "text": [
            "<ipython-input-28-6a39897c9eb9>:9: ConversionWarning: Some errors were detected !\n",
            "    Line #15948 (got 4 columns instead of 5)\n",
            "  sarray = np.genfromtxt(f'/content/drive/MyDrive/SEMG_DB1/N_TXT/{filename}', skip_header=7, invalid_raise=False)\n"
          ]
        },
        {
          "output_type": "stream",
          "name": "stdout",
          "text": [
            "(14520, 5)\n",
            "(22860, 5)\n",
            "(5681, 5)\n",
            "(5343, 5)\n"
          ]
        },
        {
          "output_type": "stream",
          "name": "stderr",
          "text": [
            "<ipython-input-28-6a39897c9eb9>:9: ConversionWarning: Some errors were detected !\n",
            "    Line #5689 (got 1 columns instead of 5)\n",
            "    Line #5690 (got 1 columns instead of 5)\n",
            "    Line #5691 (got 1 columns instead of 5)\n",
            "    Line #5692 (got 1 columns instead of 5)\n",
            "    Line #5693 (got 1 columns instead of 5)\n",
            "    Line #5694 (got 1 columns instead of 5)\n",
            "    Line #5695 (got 1 columns instead of 5)\n",
            "    Line #5696 (got 1 columns instead of 5)\n",
            "    Line #5697 (got 1 columns instead of 5)\n",
            "    Line #5698 (got 1 columns instead of 5)\n",
            "    Line #5699 (got 1 columns instead of 5)\n",
            "    Line #5700 (got 1 columns instead of 5)\n",
            "    Line #5701 (got 1 columns instead of 5)\n",
            "    Line #5702 (got 1 columns instead of 5)\n",
            "    Line #5703 (got 1 columns instead of 5)\n",
            "    Line #5704 (got 1 columns instead of 5)\n",
            "    Line #5705 (got 1 columns instead of 5)\n",
            "    Line #5706 (got 1 columns instead of 5)\n",
            "    Line #5707 (got 1 columns instead of 5)\n",
            "  sarray = np.genfromtxt(f'/content/drive/MyDrive/SEMG_DB1/N_TXT/{filename}', skip_header=7, invalid_raise=False)\n",
            "<ipython-input-28-6a39897c9eb9>:9: ConversionWarning: Some errors were detected !\n",
            "    Line #5351 (got 1 columns instead of 5)\n",
            "    Line #5352 (got 1 columns instead of 5)\n",
            "    Line #5353 (got 1 columns instead of 5)\n",
            "    Line #5354 (got 1 columns instead of 5)\n",
            "    Line #5355 (got 1 columns instead of 5)\n",
            "    Line #5356 (got 1 columns instead of 5)\n",
            "    Line #5357 (got 1 columns instead of 5)\n",
            "    Line #5358 (got 1 columns instead of 5)\n",
            "    Line #5359 (got 1 columns instead of 5)\n",
            "    Line #5360 (got 1 columns instead of 5)\n",
            "    Line #5361 (got 1 columns instead of 5)\n",
            "    Line #5362 (got 1 columns instead of 5)\n",
            "    Line #5363 (got 1 columns instead of 5)\n",
            "    Line #5364 (got 1 columns instead of 5)\n",
            "    Line #5365 (got 1 columns instead of 5)\n",
            "    Line #5366 (got 1 columns instead of 5)\n",
            "    Line #5367 (got 1 columns instead of 5)\n",
            "  sarray = np.genfromtxt(f'/content/drive/MyDrive/SEMG_DB1/N_TXT/{filename}', skip_header=7, invalid_raise=False)\n"
          ]
        },
        {
          "output_type": "stream",
          "name": "stdout",
          "text": [
            "(29220, 5)\n",
            "(14520, 5)\n",
            "(7384, 5)\n"
          ]
        },
        {
          "output_type": "stream",
          "name": "stderr",
          "text": [
            "<ipython-input-28-6a39897c9eb9>:9: ConversionWarning: Some errors were detected !\n",
            "    Line #7392 (got 1 columns instead of 5)\n",
            "    Line #7393 (got 1 columns instead of 5)\n",
            "    Line #7394 (got 1 columns instead of 5)\n",
            "    Line #7395 (got 1 columns instead of 5)\n",
            "    Line #7396 (got 1 columns instead of 5)\n",
            "    Line #7397 (got 1 columns instead of 5)\n",
            "    Line #7398 (got 1 columns instead of 5)\n",
            "    Line #7399 (got 1 columns instead of 5)\n",
            "    Line #7400 (got 1 columns instead of 5)\n",
            "    Line #7401 (got 1 columns instead of 5)\n",
            "    Line #7402 (got 1 columns instead of 5)\n",
            "    Line #7403 (got 1 columns instead of 5)\n",
            "    Line #7404 (got 1 columns instead of 5)\n",
            "    Line #7405 (got 1 columns instead of 5)\n",
            "    Line #7406 (got 1 columns instead of 5)\n",
            "    Line #7407 (got 1 columns instead of 5)\n",
            "  sarray = np.genfromtxt(f'/content/drive/MyDrive/SEMG_DB1/N_TXT/{filename}', skip_header=7, invalid_raise=False)\n"
          ]
        },
        {
          "output_type": "stream",
          "name": "stdout",
          "text": [
            "(36900, 5)\n",
            "(5845, 5)\n",
            "(9227, 5)\n",
            "(18340, 5)\n"
          ]
        },
        {
          "output_type": "stream",
          "name": "stderr",
          "text": [
            "<ipython-input-28-6a39897c9eb9>:9: ConversionWarning: Some errors were detected !\n",
            "    Line #5853 (got 1 columns instead of 5)\n",
            "    Line #5854 (got 1 columns instead of 5)\n",
            "    Line #5855 (got 1 columns instead of 5)\n",
            "    Line #5856 (got 1 columns instead of 5)\n",
            "    Line #5857 (got 1 columns instead of 5)\n",
            "    Line #5858 (got 1 columns instead of 5)\n",
            "    Line #5859 (got 1 columns instead of 5)\n",
            "    Line #5860 (got 1 columns instead of 5)\n",
            "    Line #5861 (got 1 columns instead of 5)\n",
            "    Line #5862 (got 1 columns instead of 5)\n",
            "    Line #5863 (got 1 columns instead of 5)\n",
            "    Line #5864 (got 1 columns instead of 5)\n",
            "    Line #5865 (got 1 columns instead of 5)\n",
            "    Line #5866 (got 1 columns instead of 5)\n",
            "    Line #5867 (got 1 columns instead of 5)\n",
            "  sarray = np.genfromtxt(f'/content/drive/MyDrive/SEMG_DB1/N_TXT/{filename}', skip_header=7, invalid_raise=False)\n",
            "<ipython-input-28-6a39897c9eb9>:9: ConversionWarning: Some errors were detected !\n",
            "    Line #9235 (got 1 columns instead of 5)\n",
            "    Line #9236 (got 1 columns instead of 5)\n",
            "    Line #9237 (got 1 columns instead of 5)\n",
            "    Line #9238 (got 1 columns instead of 5)\n",
            "    Line #9239 (got 1 columns instead of 5)\n",
            "    Line #9240 (got 1 columns instead of 5)\n",
            "    Line #9241 (got 1 columns instead of 5)\n",
            "    Line #9242 (got 1 columns instead of 5)\n",
            "    Line #9243 (got 1 columns instead of 5)\n",
            "    Line #9244 (got 1 columns instead of 5)\n",
            "    Line #9245 (got 1 columns instead of 5)\n",
            "    Line #9246 (got 1 columns instead of 5)\n",
            "    Line #9247 (got 1 columns instead of 5)\n",
            "  sarray = np.genfromtxt(f'/content/drive/MyDrive/SEMG_DB1/N_TXT/{filename}', skip_header=7, invalid_raise=False)\n",
            "<ipython-input-28-6a39897c9eb9>:9: ConversionWarning: Some errors were detected !\n",
            "    Line #24168 (got 4 columns instead of 5)\n",
            "  sarray = np.genfromtxt(f'/content/drive/MyDrive/SEMG_DB1/N_TXT/{filename}', skip_header=7, invalid_raise=False)\n"
          ]
        },
        {
          "output_type": "stream",
          "name": "stdout",
          "text": [
            "(24160, 5)\n",
            "(8147, 5)\n",
            "(20500, 5)\n",
            "(15480, 5)\n",
            "(7300, 5)\n"
          ]
        },
        {
          "output_type": "stream",
          "name": "stderr",
          "text": [
            "<ipython-input-28-6a39897c9eb9>:9: ConversionWarning: Some errors were detected !\n",
            "    Line #7308 (got 1 columns instead of 5)\n",
            "    Line #7309 (got 1 columns instead of 5)\n",
            "    Line #7310 (got 1 columns instead of 5)\n",
            "    Line #7311 (got 1 columns instead of 5)\n",
            "    Line #7312 (got 1 columns instead of 5)\n",
            "    Line #7313 (got 1 columns instead of 5)\n",
            "    Line #7314 (got 1 columns instead of 5)\n",
            "    Line #7315 (got 1 columns instead of 5)\n",
            "    Line #7316 (got 1 columns instead of 5)\n",
            "    Line #7317 (got 1 columns instead of 5)\n",
            "    Line #7318 (got 1 columns instead of 5)\n",
            "    Line #7319 (got 1 columns instead of 5)\n",
            "    Line #7320 (got 1 columns instead of 5)\n",
            "    Line #7321 (got 1 columns instead of 5)\n",
            "    Line #7322 (got 1 columns instead of 5)\n",
            "    Line #7323 (got 1 columns instead of 5)\n",
            "    Line #7324 (got 1 columns instead of 5)\n",
            "    Line #7325 (got 1 columns instead of 5)\n",
            "    Line #7326 (got 1 columns instead of 5)\n",
            "    Line #7327 (got 1 columns instead of 5)\n",
            "  sarray = np.genfromtxt(f'/content/drive/MyDrive/SEMG_DB1/N_TXT/{filename}', skip_header=7, invalid_raise=False)\n"
          ]
        }
      ]
    },
    {
      "cell_type": "code",
      "source": [
        "## sEMG Plot Function from text file\n",
        "\n",
        "class sEMGData:\n",
        "    \n",
        "    def __init__(self, path,names):\n",
        "        self.path = path\n",
        "        \n",
        "        # file name\n",
        "        f = open(path, 'r')\n",
        "        basename = os.path.basename(f.name)\n",
        "        if names == 'N_TXT':\n",
        "          self.output = 1\n",
        "        else:\n",
        "          self.output = 0 \n",
        "              \n",
        "        # invalid_raise - sk\n",
        "        # numpy array\n",
        "       \n",
        "        self.array = np.genfromtxt(self.path, skip_header=7, invalid_raise=False)\n",
        "        if self.array.shape[1] == 6:\n",
        "          self.array = self.array[:,:5]\n",
        "        # DataFrame\n",
        "        self.dataframe = pd.DataFrame(self.array, columns=['RF','BF','VM','ST','FX'])\n",
        "        \n",
        "    def return_array(self):\n",
        "        \n",
        "        return self.array\n",
        "    \n",
        "    def return_df(self):\n",
        "        \n",
        "        return self.dataframe\n",
        "    \n",
        "    def return_output(self):\n",
        "        return self.output\n",
        "    \n",
        "    def plot_RF(self):\n",
        "        \n",
        "        plt.plot(self.dataframe['RF'])\n",
        "        plt.title('RF - rectus femoris')\n",
        "        plt.show()\n",
        "        \n",
        "    def plot_BF(self):\n",
        "        \n",
        "        plt.plot(self.dataframe['BF'])\n",
        "        plt.title('BF - biceps femoris')\n",
        "        plt.show()\n",
        "        \n",
        "    def plot_VM(self):\n",
        "        \n",
        "        plt.plot(self.dataframe['VM'])\n",
        "        plt.title('VM - vastus internus')\n",
        "        plt.show()\n",
        "        \n",
        "    def plot_ST(self):\n",
        "        \n",
        "        plt.plot(self.dataframe['ST'])\n",
        "        plt.title('ST - semitendinosus')\n",
        "        plt.show()\n",
        "        \n",
        "    def plot_FX(self):\n",
        "        \n",
        "        plt.plot(self.dataframe['FX'])\n",
        "        plt.title('FX - knee flexion ()')\n",
        "        plt.show()  \n",
        "    \n",
        "    def sEMG_plot(self):\n",
        "        \n",
        "        # Plot individual sEMG data\n",
        "        \n",
        "        plt.plot(self.dataframe['RF'])\n",
        "        plt.title('RF - rectus femoris')\n",
        "        plt.show()\n",
        "        \n",
        "        plt.plot(self.dataframe['BF'])\n",
        "        plt.title('BF - biceps femoris')\n",
        "        plt.show()\n",
        "        \n",
        "        plt.plot(self.dataframe['VM'])\n",
        "        plt.title('VM - vastus internus')\n",
        "        plt.show()\n",
        "        \n",
        "        plt.plot(self.dataframe['ST'])\n",
        "        plt.title('ST - semitendinosus')\n",
        "        plt.show()\n",
        "        \n",
        "        plt.plot(self.dataframe['FX'])\n",
        "        plt.title('FX - knee flexion ()')\n",
        "        plt.show() "
      ],
      "metadata": {
        "id": "ibXzsaJKf05S"
      },
      "execution_count": null,
      "outputs": []
    },
    {
      "cell_type": "code",
      "source": [
        "# instantiate sEMGData\n",
        "\n",
        "# Marching or Walking data\n",
        "# /content/drive/MyDrive/SEMG_DB1/A_TXT/\n",
        "nmar_data = sEMGData('/content/drive/MyDrive/SEMG_DB1/N_TXT/10Nmar.txt','N_TXT')\n",
        "# nmar_data = sEMGData(a_data,'A_TXT')\n",
        "\n",
        "print(nmar_data.return_output())\n",
        "#  print(nmar_data.return_array())\n",
        "arr = nmar_data.return_array()\n",
        "df = nmar_data.return_df()\n",
        "# nmar_data.sEMG_plot()\n",
        "df"
      ],
      "metadata": {
        "colab": {
          "base_uri": "https://localhost:8080/",
          "height": 736
        },
        "id": "09msUNpof46p",
        "outputId": "1c81998d-6a88-46d2-aad0-c1afc71a8801"
      },
      "execution_count": null,
      "outputs": [
        {
          "output_type": "stream",
          "name": "stdout",
          "text": [
            "1\n"
          ]
        },
        {
          "output_type": "stream",
          "name": "stderr",
          "text": [
            "<ipython-input-5-ed40f00f13e5>:19: ConversionWarning: Some errors were detected !\n",
            "    Line #5853 (got 1 columns instead of 5)\n",
            "    Line #5854 (got 1 columns instead of 5)\n",
            "    Line #5855 (got 1 columns instead of 5)\n",
            "    Line #5856 (got 1 columns instead of 5)\n",
            "    Line #5857 (got 1 columns instead of 5)\n",
            "    Line #5858 (got 1 columns instead of 5)\n",
            "    Line #5859 (got 1 columns instead of 5)\n",
            "    Line #5860 (got 1 columns instead of 5)\n",
            "    Line #5861 (got 1 columns instead of 5)\n",
            "    Line #5862 (got 1 columns instead of 5)\n",
            "    Line #5863 (got 1 columns instead of 5)\n",
            "    Line #5864 (got 1 columns instead of 5)\n",
            "    Line #5865 (got 1 columns instead of 5)\n",
            "    Line #5866 (got 1 columns instead of 5)\n",
            "    Line #5867 (got 1 columns instead of 5)\n",
            "  self.array = np.genfromtxt(self.path, skip_header=7, invalid_raise=False)\n"
          ]
        },
        {
          "output_type": "execute_result",
          "data": {
            "text/plain": [
              "          RF      BF      VM      ST   FX\n",
              "0    -0.0015  0.0000  0.0007  0.0000 -1.0\n",
              "1    -0.0008  0.0015  0.0030 -0.0015 -1.0\n",
              "2     0.0007  0.0015  0.0037 -0.0023 -1.0\n",
              "3    -0.0008  0.0000  0.0022 -0.0015 -1.0\n",
              "4     0.0000 -0.0008  0.0030 -0.0008 -1.0\n",
              "...      ...     ...     ...     ...  ...\n",
              "5840 -0.0053  0.0255 -0.0098 -0.0030  3.9\n",
              "5841 -0.0053  0.0240 -0.0105 -0.0053  3.9\n",
              "5842 -0.0105  0.0127 -0.0240 -0.0053  3.9\n",
              "5843 -0.0105  0.0090 -0.0413 -0.0038  3.9\n",
              "5844  0.0037  0.0225 -0.0120  0.0090  3.9\n",
              "\n",
              "[5845 rows x 5 columns]"
            ],
            "text/html": [
              "\n",
              "  <div id=\"df-1261bd09-c07c-4a2f-8225-96776c681c6e\">\n",
              "    <div class=\"colab-df-container\">\n",
              "      <div>\n",
              "<style scoped>\n",
              "    .dataframe tbody tr th:only-of-type {\n",
              "        vertical-align: middle;\n",
              "    }\n",
              "\n",
              "    .dataframe tbody tr th {\n",
              "        vertical-align: top;\n",
              "    }\n",
              "\n",
              "    .dataframe thead th {\n",
              "        text-align: right;\n",
              "    }\n",
              "</style>\n",
              "<table border=\"1\" class=\"dataframe\">\n",
              "  <thead>\n",
              "    <tr style=\"text-align: right;\">\n",
              "      <th></th>\n",
              "      <th>RF</th>\n",
              "      <th>BF</th>\n",
              "      <th>VM</th>\n",
              "      <th>ST</th>\n",
              "      <th>FX</th>\n",
              "    </tr>\n",
              "  </thead>\n",
              "  <tbody>\n",
              "    <tr>\n",
              "      <th>0</th>\n",
              "      <td>-0.0015</td>\n",
              "      <td>0.0000</td>\n",
              "      <td>0.0007</td>\n",
              "      <td>0.0000</td>\n",
              "      <td>-1.0</td>\n",
              "    </tr>\n",
              "    <tr>\n",
              "      <th>1</th>\n",
              "      <td>-0.0008</td>\n",
              "      <td>0.0015</td>\n",
              "      <td>0.0030</td>\n",
              "      <td>-0.0015</td>\n",
              "      <td>-1.0</td>\n",
              "    </tr>\n",
              "    <tr>\n",
              "      <th>2</th>\n",
              "      <td>0.0007</td>\n",
              "      <td>0.0015</td>\n",
              "      <td>0.0037</td>\n",
              "      <td>-0.0023</td>\n",
              "      <td>-1.0</td>\n",
              "    </tr>\n",
              "    <tr>\n",
              "      <th>3</th>\n",
              "      <td>-0.0008</td>\n",
              "      <td>0.0000</td>\n",
              "      <td>0.0022</td>\n",
              "      <td>-0.0015</td>\n",
              "      <td>-1.0</td>\n",
              "    </tr>\n",
              "    <tr>\n",
              "      <th>4</th>\n",
              "      <td>0.0000</td>\n",
              "      <td>-0.0008</td>\n",
              "      <td>0.0030</td>\n",
              "      <td>-0.0008</td>\n",
              "      <td>-1.0</td>\n",
              "    </tr>\n",
              "    <tr>\n",
              "      <th>...</th>\n",
              "      <td>...</td>\n",
              "      <td>...</td>\n",
              "      <td>...</td>\n",
              "      <td>...</td>\n",
              "      <td>...</td>\n",
              "    </tr>\n",
              "    <tr>\n",
              "      <th>5840</th>\n",
              "      <td>-0.0053</td>\n",
              "      <td>0.0255</td>\n",
              "      <td>-0.0098</td>\n",
              "      <td>-0.0030</td>\n",
              "      <td>3.9</td>\n",
              "    </tr>\n",
              "    <tr>\n",
              "      <th>5841</th>\n",
              "      <td>-0.0053</td>\n",
              "      <td>0.0240</td>\n",
              "      <td>-0.0105</td>\n",
              "      <td>-0.0053</td>\n",
              "      <td>3.9</td>\n",
              "    </tr>\n",
              "    <tr>\n",
              "      <th>5842</th>\n",
              "      <td>-0.0105</td>\n",
              "      <td>0.0127</td>\n",
              "      <td>-0.0240</td>\n",
              "      <td>-0.0053</td>\n",
              "      <td>3.9</td>\n",
              "    </tr>\n",
              "    <tr>\n",
              "      <th>5843</th>\n",
              "      <td>-0.0105</td>\n",
              "      <td>0.0090</td>\n",
              "      <td>-0.0413</td>\n",
              "      <td>-0.0038</td>\n",
              "      <td>3.9</td>\n",
              "    </tr>\n",
              "    <tr>\n",
              "      <th>5844</th>\n",
              "      <td>0.0037</td>\n",
              "      <td>0.0225</td>\n",
              "      <td>-0.0120</td>\n",
              "      <td>0.0090</td>\n",
              "      <td>3.9</td>\n",
              "    </tr>\n",
              "  </tbody>\n",
              "</table>\n",
              "<p>5845 rows × 5 columns</p>\n",
              "</div>\n",
              "      <button class=\"colab-df-convert\" onclick=\"convertToInteractive('df-1261bd09-c07c-4a2f-8225-96776c681c6e')\"\n",
              "              title=\"Convert this dataframe to an interactive table.\"\n",
              "              style=\"display:none;\">\n",
              "        \n",
              "  <svg xmlns=\"http://www.w3.org/2000/svg\" height=\"24px\"viewBox=\"0 0 24 24\"\n",
              "       width=\"24px\">\n",
              "    <path d=\"M0 0h24v24H0V0z\" fill=\"none\"/>\n",
              "    <path d=\"M18.56 5.44l.94 2.06.94-2.06 2.06-.94-2.06-.94-.94-2.06-.94 2.06-2.06.94zm-11 1L8.5 8.5l.94-2.06 2.06-.94-2.06-.94L8.5 2.5l-.94 2.06-2.06.94zm10 10l.94 2.06.94-2.06 2.06-.94-2.06-.94-.94-2.06-.94 2.06-2.06.94z\"/><path d=\"M17.41 7.96l-1.37-1.37c-.4-.4-.92-.59-1.43-.59-.52 0-1.04.2-1.43.59L10.3 9.45l-7.72 7.72c-.78.78-.78 2.05 0 2.83L4 21.41c.39.39.9.59 1.41.59.51 0 1.02-.2 1.41-.59l7.78-7.78 2.81-2.81c.8-.78.8-2.07 0-2.86zM5.41 20L4 18.59l7.72-7.72 1.47 1.35L5.41 20z\"/>\n",
              "  </svg>\n",
              "      </button>\n",
              "      \n",
              "  <style>\n",
              "    .colab-df-container {\n",
              "      display:flex;\n",
              "      flex-wrap:wrap;\n",
              "      gap: 12px;\n",
              "    }\n",
              "\n",
              "    .colab-df-convert {\n",
              "      background-color: #E8F0FE;\n",
              "      border: none;\n",
              "      border-radius: 50%;\n",
              "      cursor: pointer;\n",
              "      display: none;\n",
              "      fill: #1967D2;\n",
              "      height: 32px;\n",
              "      padding: 0 0 0 0;\n",
              "      width: 32px;\n",
              "    }\n",
              "\n",
              "    .colab-df-convert:hover {\n",
              "      background-color: #E2EBFA;\n",
              "      box-shadow: 0px 1px 2px rgba(60, 64, 67, 0.3), 0px 1px 3px 1px rgba(60, 64, 67, 0.15);\n",
              "      fill: #174EA6;\n",
              "    }\n",
              "\n",
              "    [theme=dark] .colab-df-convert {\n",
              "      background-color: #3B4455;\n",
              "      fill: #D2E3FC;\n",
              "    }\n",
              "\n",
              "    [theme=dark] .colab-df-convert:hover {\n",
              "      background-color: #434B5C;\n",
              "      box-shadow: 0px 1px 3px 1px rgba(0, 0, 0, 0.15);\n",
              "      filter: drop-shadow(0px 1px 2px rgba(0, 0, 0, 0.3));\n",
              "      fill: #FFFFFF;\n",
              "    }\n",
              "  </style>\n",
              "\n",
              "      <script>\n",
              "        const buttonEl =\n",
              "          document.querySelector('#df-1261bd09-c07c-4a2f-8225-96776c681c6e button.colab-df-convert');\n",
              "        buttonEl.style.display =\n",
              "          google.colab.kernel.accessAllowed ? 'block' : 'none';\n",
              "\n",
              "        async function convertToInteractive(key) {\n",
              "          const element = document.querySelector('#df-1261bd09-c07c-4a2f-8225-96776c681c6e');\n",
              "          const dataTable =\n",
              "            await google.colab.kernel.invokeFunction('convertToInteractive',\n",
              "                                                     [key], {});\n",
              "          if (!dataTable) return;\n",
              "\n",
              "          const docLinkHtml = 'Like what you see? Visit the ' +\n",
              "            '<a target=\"_blank\" href=https://colab.research.google.com/notebooks/data_table.ipynb>data table notebook</a>'\n",
              "            + ' to learn more about interactive tables.';\n",
              "          element.innerHTML = '';\n",
              "          dataTable['output_type'] = 'display_data';\n",
              "          await google.colab.output.renderOutput(dataTable, element);\n",
              "          const docLink = document.createElement('div');\n",
              "          docLink.innerHTML = docLinkHtml;\n",
              "          element.appendChild(docLink);\n",
              "        }\n",
              "      </script>\n",
              "    </div>\n",
              "  </div>\n",
              "  "
            ]
          },
          "metadata": {},
          "execution_count": 8
        }
      ]
    },
    {
      "cell_type": "code",
      "source": [
        "input_array = []\n",
        "classes = []\n",
        "\n",
        "# iterates through folder\n",
        "def extract_data(data_type,A_OR_N):  \n",
        "  for filename in os.listdir(data_type):\n",
        "      if filename.endswith('.txt'):\n",
        "          # instantiates each sEMG data\n",
        "          sEMGA = sEMGData(data_type + filename,f'{A_OR_N}_TXT')\n",
        "          \n",
        "          input_array.append(sEMGA.return_array())\n",
        "          classes.append(sEMGA.return_output())\n",
        "  return input_array, classes\n",
        "\n",
        "def make_total_df(input_array):\n",
        "  df = pd.DataFrame(input_array[0],columns=['RF','BF','VM','ST','FX'])\n",
        "\n",
        "  for i in range(1,33):\n",
        "   rr =  pd.DataFrame(input_array[i],columns=['RF','BF','VM','ST','FX'])\n",
        "   df = pd.concat([df,rr])\n",
        "  return df \n",
        "\n"
      ],
      "metadata": {
        "id": "c0rsLF0akUZY"
      },
      "execution_count": null,
      "outputs": []
    },
    {
      "cell_type": "code",
      "source": [
        "# abnormal data frame \n",
        "data, classes = extract_data(a_data,'A')\n",
        "a_df = make_total_df(data)\n",
        "a_df"
      ],
      "metadata": {
        "colab": {
          "base_uri": "https://localhost:8080/",
          "height": 424
        },
        "id": "RgkcH82Huh1Z",
        "outputId": "b93439a8-da87-4f53-c1a9-a105544c3513"
      },
      "execution_count": null,
      "outputs": [
        {
          "output_type": "execute_result",
          "data": {
            "text/plain": [
              "           RF      BF      VM      ST    FX\n",
              "0      0.0000  0.0052  0.0007 -0.0030  -4.6\n",
              "1     -0.0015 -0.0068  0.0030 -0.0091  -4.5\n",
              "2     -0.0053 -0.0458 -0.0008 -0.0098  -4.6\n",
              "3     -0.0068 -0.0398 -0.0008 -0.0068  -4.6\n",
              "4     -0.0030 -0.0368 -0.0038 -0.0046  -4.5\n",
              "...       ...     ...     ...     ...   ...\n",
              "22891  0.0007  0.0030 -0.0038 -0.0143  27.9\n",
              "22892  0.0015 -0.0091 -0.0030 -0.0091  27.4\n",
              "22893  0.0000  0.0007 -0.0046 -0.0008  27.3\n",
              "22894  0.0000 -0.0030 -0.0053 -0.0053  26.9\n",
              "22895 -0.0008 -0.0120 -0.0053  0.0165  26.9\n",
              "\n",
              "[850515 rows x 5 columns]"
            ],
            "text/html": [
              "\n",
              "  <div id=\"df-807bbe79-8caf-4dae-93fa-afa3e8baac77\">\n",
              "    <div class=\"colab-df-container\">\n",
              "      <div>\n",
              "<style scoped>\n",
              "    .dataframe tbody tr th:only-of-type {\n",
              "        vertical-align: middle;\n",
              "    }\n",
              "\n",
              "    .dataframe tbody tr th {\n",
              "        vertical-align: top;\n",
              "    }\n",
              "\n",
              "    .dataframe thead th {\n",
              "        text-align: right;\n",
              "    }\n",
              "</style>\n",
              "<table border=\"1\" class=\"dataframe\">\n",
              "  <thead>\n",
              "    <tr style=\"text-align: right;\">\n",
              "      <th></th>\n",
              "      <th>RF</th>\n",
              "      <th>BF</th>\n",
              "      <th>VM</th>\n",
              "      <th>ST</th>\n",
              "      <th>FX</th>\n",
              "    </tr>\n",
              "  </thead>\n",
              "  <tbody>\n",
              "    <tr>\n",
              "      <th>0</th>\n",
              "      <td>0.0000</td>\n",
              "      <td>0.0052</td>\n",
              "      <td>0.0007</td>\n",
              "      <td>-0.0030</td>\n",
              "      <td>-4.6</td>\n",
              "    </tr>\n",
              "    <tr>\n",
              "      <th>1</th>\n",
              "      <td>-0.0015</td>\n",
              "      <td>-0.0068</td>\n",
              "      <td>0.0030</td>\n",
              "      <td>-0.0091</td>\n",
              "      <td>-4.5</td>\n",
              "    </tr>\n",
              "    <tr>\n",
              "      <th>2</th>\n",
              "      <td>-0.0053</td>\n",
              "      <td>-0.0458</td>\n",
              "      <td>-0.0008</td>\n",
              "      <td>-0.0098</td>\n",
              "      <td>-4.6</td>\n",
              "    </tr>\n",
              "    <tr>\n",
              "      <th>3</th>\n",
              "      <td>-0.0068</td>\n",
              "      <td>-0.0398</td>\n",
              "      <td>-0.0008</td>\n",
              "      <td>-0.0068</td>\n",
              "      <td>-4.6</td>\n",
              "    </tr>\n",
              "    <tr>\n",
              "      <th>4</th>\n",
              "      <td>-0.0030</td>\n",
              "      <td>-0.0368</td>\n",
              "      <td>-0.0038</td>\n",
              "      <td>-0.0046</td>\n",
              "      <td>-4.5</td>\n",
              "    </tr>\n",
              "    <tr>\n",
              "      <th>...</th>\n",
              "      <td>...</td>\n",
              "      <td>...</td>\n",
              "      <td>...</td>\n",
              "      <td>...</td>\n",
              "      <td>...</td>\n",
              "    </tr>\n",
              "    <tr>\n",
              "      <th>22891</th>\n",
              "      <td>0.0007</td>\n",
              "      <td>0.0030</td>\n",
              "      <td>-0.0038</td>\n",
              "      <td>-0.0143</td>\n",
              "      <td>27.9</td>\n",
              "    </tr>\n",
              "    <tr>\n",
              "      <th>22892</th>\n",
              "      <td>0.0015</td>\n",
              "      <td>-0.0091</td>\n",
              "      <td>-0.0030</td>\n",
              "      <td>-0.0091</td>\n",
              "      <td>27.4</td>\n",
              "    </tr>\n",
              "    <tr>\n",
              "      <th>22893</th>\n",
              "      <td>0.0000</td>\n",
              "      <td>0.0007</td>\n",
              "      <td>-0.0046</td>\n",
              "      <td>-0.0008</td>\n",
              "      <td>27.3</td>\n",
              "    </tr>\n",
              "    <tr>\n",
              "      <th>22894</th>\n",
              "      <td>0.0000</td>\n",
              "      <td>-0.0030</td>\n",
              "      <td>-0.0053</td>\n",
              "      <td>-0.0053</td>\n",
              "      <td>26.9</td>\n",
              "    </tr>\n",
              "    <tr>\n",
              "      <th>22895</th>\n",
              "      <td>-0.0008</td>\n",
              "      <td>-0.0120</td>\n",
              "      <td>-0.0053</td>\n",
              "      <td>0.0165</td>\n",
              "      <td>26.9</td>\n",
              "    </tr>\n",
              "  </tbody>\n",
              "</table>\n",
              "<p>850515 rows × 5 columns</p>\n",
              "</div>\n",
              "      <button class=\"colab-df-convert\" onclick=\"convertToInteractive('df-807bbe79-8caf-4dae-93fa-afa3e8baac77')\"\n",
              "              title=\"Convert this dataframe to an interactive table.\"\n",
              "              style=\"display:none;\">\n",
              "        \n",
              "  <svg xmlns=\"http://www.w3.org/2000/svg\" height=\"24px\"viewBox=\"0 0 24 24\"\n",
              "       width=\"24px\">\n",
              "    <path d=\"M0 0h24v24H0V0z\" fill=\"none\"/>\n",
              "    <path d=\"M18.56 5.44l.94 2.06.94-2.06 2.06-.94-2.06-.94-.94-2.06-.94 2.06-2.06.94zm-11 1L8.5 8.5l.94-2.06 2.06-.94-2.06-.94L8.5 2.5l-.94 2.06-2.06.94zm10 10l.94 2.06.94-2.06 2.06-.94-2.06-.94-.94-2.06-.94 2.06-2.06.94z\"/><path d=\"M17.41 7.96l-1.37-1.37c-.4-.4-.92-.59-1.43-.59-.52 0-1.04.2-1.43.59L10.3 9.45l-7.72 7.72c-.78.78-.78 2.05 0 2.83L4 21.41c.39.39.9.59 1.41.59.51 0 1.02-.2 1.41-.59l7.78-7.78 2.81-2.81c.8-.78.8-2.07 0-2.86zM5.41 20L4 18.59l7.72-7.72 1.47 1.35L5.41 20z\"/>\n",
              "  </svg>\n",
              "      </button>\n",
              "      \n",
              "  <style>\n",
              "    .colab-df-container {\n",
              "      display:flex;\n",
              "      flex-wrap:wrap;\n",
              "      gap: 12px;\n",
              "    }\n",
              "\n",
              "    .colab-df-convert {\n",
              "      background-color: #E8F0FE;\n",
              "      border: none;\n",
              "      border-radius: 50%;\n",
              "      cursor: pointer;\n",
              "      display: none;\n",
              "      fill: #1967D2;\n",
              "      height: 32px;\n",
              "      padding: 0 0 0 0;\n",
              "      width: 32px;\n",
              "    }\n",
              "\n",
              "    .colab-df-convert:hover {\n",
              "      background-color: #E2EBFA;\n",
              "      box-shadow: 0px 1px 2px rgba(60, 64, 67, 0.3), 0px 1px 3px 1px rgba(60, 64, 67, 0.15);\n",
              "      fill: #174EA6;\n",
              "    }\n",
              "\n",
              "    [theme=dark] .colab-df-convert {\n",
              "      background-color: #3B4455;\n",
              "      fill: #D2E3FC;\n",
              "    }\n",
              "\n",
              "    [theme=dark] .colab-df-convert:hover {\n",
              "      background-color: #434B5C;\n",
              "      box-shadow: 0px 1px 3px 1px rgba(0, 0, 0, 0.15);\n",
              "      filter: drop-shadow(0px 1px 2px rgba(0, 0, 0, 0.3));\n",
              "      fill: #FFFFFF;\n",
              "    }\n",
              "  </style>\n",
              "\n",
              "      <script>\n",
              "        const buttonEl =\n",
              "          document.querySelector('#df-807bbe79-8caf-4dae-93fa-afa3e8baac77 button.colab-df-convert');\n",
              "        buttonEl.style.display =\n",
              "          google.colab.kernel.accessAllowed ? 'block' : 'none';\n",
              "\n",
              "        async function convertToInteractive(key) {\n",
              "          const element = document.querySelector('#df-807bbe79-8caf-4dae-93fa-afa3e8baac77');\n",
              "          const dataTable =\n",
              "            await google.colab.kernel.invokeFunction('convertToInteractive',\n",
              "                                                     [key], {});\n",
              "          if (!dataTable) return;\n",
              "\n",
              "          const docLinkHtml = 'Like what you see? Visit the ' +\n",
              "            '<a target=\"_blank\" href=https://colab.research.google.com/notebooks/data_table.ipynb>data table notebook</a>'\n",
              "            + ' to learn more about interactive tables.';\n",
              "          element.innerHTML = '';\n",
              "          dataTable['output_type'] = 'display_data';\n",
              "          await google.colab.output.renderOutput(dataTable, element);\n",
              "          const docLink = document.createElement('div');\n",
              "          docLink.innerHTML = docLinkHtml;\n",
              "          element.appendChild(docLink);\n",
              "        }\n",
              "      </script>\n",
              "    </div>\n",
              "  </div>\n",
              "  "
            ]
          },
          "metadata": {},
          "execution_count": 10
        }
      ]
    },
    {
      "cell_type": "code",
      "source": [
        "a_df.shape , nnnn.shape"
      ],
      "metadata": {
        "colab": {
          "base_uri": "https://localhost:8080/"
        },
        "id": "hRUnqAex1YGv",
        "outputId": "f12fdfdd-0cba-4cf2-cf6f-2c06d6b50eca"
      },
      "execution_count": null,
      "outputs": [
        {
          "output_type": "execute_result",
          "data": {
            "text/plain": [
              "((850515, 5), (469716, 5))"
            ]
          },
          "metadata": {},
          "execution_count": 35
        }
      ]
    },
    {
      "cell_type": "code",
      "source": [
        "a_df['target'] , nnnn['target'] = 1 , 0"
      ],
      "metadata": {
        "id": "Z_dba2R-_yyC"
      },
      "execution_count": null,
      "outputs": []
    },
    {
      "cell_type": "code",
      "source": [
        "nnnn.columns = ['RF','BF','VM','ST','FX','target']"
      ],
      "metadata": {
        "id": "RQe5mEx-wo-3"
      },
      "execution_count": null,
      "outputs": []
    },
    {
      "cell_type": "code",
      "source": [
        "dataset1 = pd.concat([a_df,nnnn])\n",
        "dataset1.reset_index()\n",
        "dataset1.head()"
      ],
      "metadata": {
        "colab": {
          "base_uri": "https://localhost:8080/",
          "height": 206
        },
        "id": "Cvq7TCU3x8Bp",
        "outputId": "916b38a2-79e8-46d9-da40-502ca0c1e7a6"
      },
      "execution_count": null,
      "outputs": [
        {
          "output_type": "execute_result",
          "data": {
            "text/plain": [
              "       RF      BF      VM      ST   FX  target\n",
              "0  0.0000  0.0052  0.0007 -0.0030 -4.6       1\n",
              "1 -0.0015 -0.0068  0.0030 -0.0091 -4.5       1\n",
              "2 -0.0053 -0.0458 -0.0008 -0.0098 -4.6       1\n",
              "3 -0.0068 -0.0398 -0.0008 -0.0068 -4.6       1\n",
              "4 -0.0030 -0.0368 -0.0038 -0.0046 -4.5       1"
            ],
            "text/html": [
              "\n",
              "  <div id=\"df-08f54fb6-4151-4f3e-8359-190b9b834c21\">\n",
              "    <div class=\"colab-df-container\">\n",
              "      <div>\n",
              "<style scoped>\n",
              "    .dataframe tbody tr th:only-of-type {\n",
              "        vertical-align: middle;\n",
              "    }\n",
              "\n",
              "    .dataframe tbody tr th {\n",
              "        vertical-align: top;\n",
              "    }\n",
              "\n",
              "    .dataframe thead th {\n",
              "        text-align: right;\n",
              "    }\n",
              "</style>\n",
              "<table border=\"1\" class=\"dataframe\">\n",
              "  <thead>\n",
              "    <tr style=\"text-align: right;\">\n",
              "      <th></th>\n",
              "      <th>RF</th>\n",
              "      <th>BF</th>\n",
              "      <th>VM</th>\n",
              "      <th>ST</th>\n",
              "      <th>FX</th>\n",
              "      <th>target</th>\n",
              "    </tr>\n",
              "  </thead>\n",
              "  <tbody>\n",
              "    <tr>\n",
              "      <th>0</th>\n",
              "      <td>0.0000</td>\n",
              "      <td>0.0052</td>\n",
              "      <td>0.0007</td>\n",
              "      <td>-0.0030</td>\n",
              "      <td>-4.6</td>\n",
              "      <td>1</td>\n",
              "    </tr>\n",
              "    <tr>\n",
              "      <th>1</th>\n",
              "      <td>-0.0015</td>\n",
              "      <td>-0.0068</td>\n",
              "      <td>0.0030</td>\n",
              "      <td>-0.0091</td>\n",
              "      <td>-4.5</td>\n",
              "      <td>1</td>\n",
              "    </tr>\n",
              "    <tr>\n",
              "      <th>2</th>\n",
              "      <td>-0.0053</td>\n",
              "      <td>-0.0458</td>\n",
              "      <td>-0.0008</td>\n",
              "      <td>-0.0098</td>\n",
              "      <td>-4.6</td>\n",
              "      <td>1</td>\n",
              "    </tr>\n",
              "    <tr>\n",
              "      <th>3</th>\n",
              "      <td>-0.0068</td>\n",
              "      <td>-0.0398</td>\n",
              "      <td>-0.0008</td>\n",
              "      <td>-0.0068</td>\n",
              "      <td>-4.6</td>\n",
              "      <td>1</td>\n",
              "    </tr>\n",
              "    <tr>\n",
              "      <th>4</th>\n",
              "      <td>-0.0030</td>\n",
              "      <td>-0.0368</td>\n",
              "      <td>-0.0038</td>\n",
              "      <td>-0.0046</td>\n",
              "      <td>-4.5</td>\n",
              "      <td>1</td>\n",
              "    </tr>\n",
              "  </tbody>\n",
              "</table>\n",
              "</div>\n",
              "      <button class=\"colab-df-convert\" onclick=\"convertToInteractive('df-08f54fb6-4151-4f3e-8359-190b9b834c21')\"\n",
              "              title=\"Convert this dataframe to an interactive table.\"\n",
              "              style=\"display:none;\">\n",
              "        \n",
              "  <svg xmlns=\"http://www.w3.org/2000/svg\" height=\"24px\"viewBox=\"0 0 24 24\"\n",
              "       width=\"24px\">\n",
              "    <path d=\"M0 0h24v24H0V0z\" fill=\"none\"/>\n",
              "    <path d=\"M18.56 5.44l.94 2.06.94-2.06 2.06-.94-2.06-.94-.94-2.06-.94 2.06-2.06.94zm-11 1L8.5 8.5l.94-2.06 2.06-.94-2.06-.94L8.5 2.5l-.94 2.06-2.06.94zm10 10l.94 2.06.94-2.06 2.06-.94-2.06-.94-.94-2.06-.94 2.06-2.06.94z\"/><path d=\"M17.41 7.96l-1.37-1.37c-.4-.4-.92-.59-1.43-.59-.52 0-1.04.2-1.43.59L10.3 9.45l-7.72 7.72c-.78.78-.78 2.05 0 2.83L4 21.41c.39.39.9.59 1.41.59.51 0 1.02-.2 1.41-.59l7.78-7.78 2.81-2.81c.8-.78.8-2.07 0-2.86zM5.41 20L4 18.59l7.72-7.72 1.47 1.35L5.41 20z\"/>\n",
              "  </svg>\n",
              "      </button>\n",
              "      \n",
              "  <style>\n",
              "    .colab-df-container {\n",
              "      display:flex;\n",
              "      flex-wrap:wrap;\n",
              "      gap: 12px;\n",
              "    }\n",
              "\n",
              "    .colab-df-convert {\n",
              "      background-color: #E8F0FE;\n",
              "      border: none;\n",
              "      border-radius: 50%;\n",
              "      cursor: pointer;\n",
              "      display: none;\n",
              "      fill: #1967D2;\n",
              "      height: 32px;\n",
              "      padding: 0 0 0 0;\n",
              "      width: 32px;\n",
              "    }\n",
              "\n",
              "    .colab-df-convert:hover {\n",
              "      background-color: #E2EBFA;\n",
              "      box-shadow: 0px 1px 2px rgba(60, 64, 67, 0.3), 0px 1px 3px 1px rgba(60, 64, 67, 0.15);\n",
              "      fill: #174EA6;\n",
              "    }\n",
              "\n",
              "    [theme=dark] .colab-df-convert {\n",
              "      background-color: #3B4455;\n",
              "      fill: #D2E3FC;\n",
              "    }\n",
              "\n",
              "    [theme=dark] .colab-df-convert:hover {\n",
              "      background-color: #434B5C;\n",
              "      box-shadow: 0px 1px 3px 1px rgba(0, 0, 0, 0.15);\n",
              "      filter: drop-shadow(0px 1px 2px rgba(0, 0, 0, 0.3));\n",
              "      fill: #FFFFFF;\n",
              "    }\n",
              "  </style>\n",
              "\n",
              "      <script>\n",
              "        const buttonEl =\n",
              "          document.querySelector('#df-08f54fb6-4151-4f3e-8359-190b9b834c21 button.colab-df-convert');\n",
              "        buttonEl.style.display =\n",
              "          google.colab.kernel.accessAllowed ? 'block' : 'none';\n",
              "\n",
              "        async function convertToInteractive(key) {\n",
              "          const element = document.querySelector('#df-08f54fb6-4151-4f3e-8359-190b9b834c21');\n",
              "          const dataTable =\n",
              "            await google.colab.kernel.invokeFunction('convertToInteractive',\n",
              "                                                     [key], {});\n",
              "          if (!dataTable) return;\n",
              "\n",
              "          const docLinkHtml = 'Like what you see? Visit the ' +\n",
              "            '<a target=\"_blank\" href=https://colab.research.google.com/notebooks/data_table.ipynb>data table notebook</a>'\n",
              "            + ' to learn more about interactive tables.';\n",
              "          element.innerHTML = '';\n",
              "          dataTable['output_type'] = 'display_data';\n",
              "          await google.colab.output.renderOutput(dataTable, element);\n",
              "          const docLink = document.createElement('div');\n",
              "          docLink.innerHTML = docLinkHtml;\n",
              "          element.appendChild(docLink);\n",
              "        }\n",
              "      </script>\n",
              "    </div>\n",
              "  </div>\n",
              "  "
            ]
          },
          "metadata": {},
          "execution_count": 46
        }
      ]
    },
    {
      "cell_type": "code",
      "source": [
        "dataset1.target.value_counts()"
      ],
      "metadata": {
        "colab": {
          "base_uri": "https://localhost:8080/"
        },
        "id": "U-vS0WSdyKk5",
        "outputId": "d3820a2d-ca7f-48b0-9af0-59e318bf8026"
      },
      "execution_count": null,
      "outputs": [
        {
          "output_type": "execute_result",
          "data": {
            "text/plain": [
              "1    850515\n",
              "0    469716\n",
              "Name: target, dtype: int64"
            ]
          },
          "metadata": {},
          "execution_count": 49
        }
      ]
    },
    {
      "cell_type": "code",
      "source": [
        "os.chdir('/content/drive/MyDrive/')\n",
        "os.getcwd()\n",
        "# os.mkdir('datapkle')\n",
        "! cd '/content/drive/MyDrive/datapkle'\n",
        "os.getcwd()"
      ],
      "metadata": {
        "colab": {
          "base_uri": "https://localhost:8080/",
          "height": 35
        },
        "id": "nHeWgnRIzgwU",
        "outputId": "0ecc431c-d735-439a-a4be-2e7b53013fcd"
      },
      "execution_count": null,
      "outputs": [
        {
          "output_type": "execute_result",
          "data": {
            "text/plain": [
              "'/content/drive/MyDrive'"
            ],
            "application/vnd.google.colaboratory.intrinsic+json": {
              "type": "string"
            }
          },
          "metadata": {},
          "execution_count": 61
        }
      ]
    },
    {
      "cell_type": "code",
      "source": [
        "import pickle \n",
        "dataset1.to_pickle('/content/drive/MyDrive/datapkle/dd.pkl')"
      ],
      "metadata": {
        "id": "khMm2NLRwpm6"
      },
      "execution_count": null,
      "outputs": []
    },
    {
      "cell_type": "code",
      "source": [
        "import pickle \n",
        "dataset = pd.read_pickle('/content/drive/MyDrive/datapkle/dd.pkl')\n",
        "dataset.head()"
      ],
      "metadata": {
        "colab": {
          "base_uri": "https://localhost:8080/"
        },
        "id": "MO18h9eUwprw",
        "outputId": "97e14517-b641-46af-d707-a863ed96d27a"
      },
      "execution_count": null,
      "outputs": [
        {
          "output_type": "execute_result",
          "data": {
            "text/plain": [
              "       RF      BF      VM      ST   FX  target\n",
              "0  0.0000  0.0052  0.0007 -0.0030 -4.6       1\n",
              "1 -0.0015 -0.0068  0.0030 -0.0091 -4.5       1\n",
              "2 -0.0053 -0.0458 -0.0008 -0.0098 -4.6       1\n",
              "3 -0.0068 -0.0398 -0.0008 -0.0068 -4.6       1\n",
              "4 -0.0030 -0.0368 -0.0038 -0.0046 -4.5       1"
            ],
            "text/html": [
              "\n",
              "  <div id=\"df-396cf71c-acc4-497c-b935-182f5c770a36\">\n",
              "    <div class=\"colab-df-container\">\n",
              "      <div>\n",
              "<style scoped>\n",
              "    .dataframe tbody tr th:only-of-type {\n",
              "        vertical-align: middle;\n",
              "    }\n",
              "\n",
              "    .dataframe tbody tr th {\n",
              "        vertical-align: top;\n",
              "    }\n",
              "\n",
              "    .dataframe thead th {\n",
              "        text-align: right;\n",
              "    }\n",
              "</style>\n",
              "<table border=\"1\" class=\"dataframe\">\n",
              "  <thead>\n",
              "    <tr style=\"text-align: right;\">\n",
              "      <th></th>\n",
              "      <th>RF</th>\n",
              "      <th>BF</th>\n",
              "      <th>VM</th>\n",
              "      <th>ST</th>\n",
              "      <th>FX</th>\n",
              "      <th>target</th>\n",
              "    </tr>\n",
              "  </thead>\n",
              "  <tbody>\n",
              "    <tr>\n",
              "      <th>0</th>\n",
              "      <td>0.0000</td>\n",
              "      <td>0.0052</td>\n",
              "      <td>0.0007</td>\n",
              "      <td>-0.0030</td>\n",
              "      <td>-4.6</td>\n",
              "      <td>1</td>\n",
              "    </tr>\n",
              "    <tr>\n",
              "      <th>1</th>\n",
              "      <td>-0.0015</td>\n",
              "      <td>-0.0068</td>\n",
              "      <td>0.0030</td>\n",
              "      <td>-0.0091</td>\n",
              "      <td>-4.5</td>\n",
              "      <td>1</td>\n",
              "    </tr>\n",
              "    <tr>\n",
              "      <th>2</th>\n",
              "      <td>-0.0053</td>\n",
              "      <td>-0.0458</td>\n",
              "      <td>-0.0008</td>\n",
              "      <td>-0.0098</td>\n",
              "      <td>-4.6</td>\n",
              "      <td>1</td>\n",
              "    </tr>\n",
              "    <tr>\n",
              "      <th>3</th>\n",
              "      <td>-0.0068</td>\n",
              "      <td>-0.0398</td>\n",
              "      <td>-0.0008</td>\n",
              "      <td>-0.0068</td>\n",
              "      <td>-4.6</td>\n",
              "      <td>1</td>\n",
              "    </tr>\n",
              "    <tr>\n",
              "      <th>4</th>\n",
              "      <td>-0.0030</td>\n",
              "      <td>-0.0368</td>\n",
              "      <td>-0.0038</td>\n",
              "      <td>-0.0046</td>\n",
              "      <td>-4.5</td>\n",
              "      <td>1</td>\n",
              "    </tr>\n",
              "  </tbody>\n",
              "</table>\n",
              "</div>\n",
              "      <button class=\"colab-df-convert\" onclick=\"convertToInteractive('df-396cf71c-acc4-497c-b935-182f5c770a36')\"\n",
              "              title=\"Convert this dataframe to an interactive table.\"\n",
              "              style=\"display:none;\">\n",
              "        \n",
              "  <svg xmlns=\"http://www.w3.org/2000/svg\" height=\"24px\"viewBox=\"0 0 24 24\"\n",
              "       width=\"24px\">\n",
              "    <path d=\"M0 0h24v24H0V0z\" fill=\"none\"/>\n",
              "    <path d=\"M18.56 5.44l.94 2.06.94-2.06 2.06-.94-2.06-.94-.94-2.06-.94 2.06-2.06.94zm-11 1L8.5 8.5l.94-2.06 2.06-.94-2.06-.94L8.5 2.5l-.94 2.06-2.06.94zm10 10l.94 2.06.94-2.06 2.06-.94-2.06-.94-.94-2.06-.94 2.06-2.06.94z\"/><path d=\"M17.41 7.96l-1.37-1.37c-.4-.4-.92-.59-1.43-.59-.52 0-1.04.2-1.43.59L10.3 9.45l-7.72 7.72c-.78.78-.78 2.05 0 2.83L4 21.41c.39.39.9.59 1.41.59.51 0 1.02-.2 1.41-.59l7.78-7.78 2.81-2.81c.8-.78.8-2.07 0-2.86zM5.41 20L4 18.59l7.72-7.72 1.47 1.35L5.41 20z\"/>\n",
              "  </svg>\n",
              "      </button>\n",
              "      \n",
              "  <style>\n",
              "    .colab-df-container {\n",
              "      display:flex;\n",
              "      flex-wrap:wrap;\n",
              "      gap: 12px;\n",
              "    }\n",
              "\n",
              "    .colab-df-convert {\n",
              "      background-color: #E8F0FE;\n",
              "      border: none;\n",
              "      border-radius: 50%;\n",
              "      cursor: pointer;\n",
              "      display: none;\n",
              "      fill: #1967D2;\n",
              "      height: 32px;\n",
              "      padding: 0 0 0 0;\n",
              "      width: 32px;\n",
              "    }\n",
              "\n",
              "    .colab-df-convert:hover {\n",
              "      background-color: #E2EBFA;\n",
              "      box-shadow: 0px 1px 2px rgba(60, 64, 67, 0.3), 0px 1px 3px 1px rgba(60, 64, 67, 0.15);\n",
              "      fill: #174EA6;\n",
              "    }\n",
              "\n",
              "    [theme=dark] .colab-df-convert {\n",
              "      background-color: #3B4455;\n",
              "      fill: #D2E3FC;\n",
              "    }\n",
              "\n",
              "    [theme=dark] .colab-df-convert:hover {\n",
              "      background-color: #434B5C;\n",
              "      box-shadow: 0px 1px 3px 1px rgba(0, 0, 0, 0.15);\n",
              "      filter: drop-shadow(0px 1px 2px rgba(0, 0, 0, 0.3));\n",
              "      fill: #FFFFFF;\n",
              "    }\n",
              "  </style>\n",
              "\n",
              "      <script>\n",
              "        const buttonEl =\n",
              "          document.querySelector('#df-396cf71c-acc4-497c-b935-182f5c770a36 button.colab-df-convert');\n",
              "        buttonEl.style.display =\n",
              "          google.colab.kernel.accessAllowed ? 'block' : 'none';\n",
              "\n",
              "        async function convertToInteractive(key) {\n",
              "          const element = document.querySelector('#df-396cf71c-acc4-497c-b935-182f5c770a36');\n",
              "          const dataTable =\n",
              "            await google.colab.kernel.invokeFunction('convertToInteractive',\n",
              "                                                     [key], {});\n",
              "          if (!dataTable) return;\n",
              "\n",
              "          const docLinkHtml = 'Like what you see? Visit the ' +\n",
              "            '<a target=\"_blank\" href=https://colab.research.google.com/notebooks/data_table.ipynb>data table notebook</a>'\n",
              "            + ' to learn more about interactive tables.';\n",
              "          element.innerHTML = '';\n",
              "          dataTable['output_type'] = 'display_data';\n",
              "          await google.colab.output.renderOutput(dataTable, element);\n",
              "          const docLink = document.createElement('div');\n",
              "          docLink.innerHTML = docLinkHtml;\n",
              "          element.appendChild(docLink);\n",
              "        }\n",
              "      </script>\n",
              "    </div>\n",
              "  </div>\n",
              "  "
            ]
          },
          "metadata": {},
          "execution_count": 7
        }
      ]
    },
    {
      "cell_type": "code",
      "source": [
        "dataset = a_df.groupby(['target'])\n"
      ],
      "metadata": {
        "id": "y7w8SWd_1YPK"
      },
      "execution_count": null,
      "outputs": []
    },
    {
      "cell_type": "code",
      "source": [
        "df=pd.DataFrame({ 'x':range(30),'f':range(30) })\n",
        "df = df.rolling(10).mean()           # version 0.18.0 syntax\n",
        "df1 = df[4::5]                             # take every 5th row\n",
        "\n",
        "#        x\n",
        "# 4    NaN\n",
        "# 9    4.5\n",
        "# 14   9.5\n",
        "# 19  14.5\n",
        "# 24  19.5\n",
        "# 29  24.5"
      ],
      "metadata": {
        "id": "Zvr_JddbAura"
      },
      "execution_count": null,
      "outputs": []
    },
    {
      "cell_type": "code",
      "source": [],
      "metadata": {
        "id": "DDWTmGjZAvSn"
      },
      "execution_count": null,
      "outputs": []
    },
    {
      "cell_type": "code",
      "source": [
        "##functions for extracting sEMG features\n",
        "def rms(data): ##root mean square\n",
        "      return  np.sqrt(np.mean(data**2,axis=0))  \n",
        "\n",
        "def SSI(data): ##Simple Square Integral\n",
        "    return np.sum(data**2,axis=0)\n",
        "\n",
        "def abs_diffs_signal(data): ##absolute differential signal\n",
        "    return np.sum(np.abs(np.diff(data,axis=0)),axis=0)\n",
        "\n",
        "##function for returning an estimator class name \n",
        "def print_estimator_name(estimator):\n",
        "    return estimator.__class__.__name__"
      ],
      "metadata": {
        "id": "HvrxhuYP1YTf"
      },
      "execution_count": null,
      "outputs": []
    },
    {
      "cell_type": "code",
      "source": [
        "a_df.isnull().sum()"
      ],
      "metadata": {
        "colab": {
          "base_uri": "https://localhost:8080/"
        },
        "id": "tH3hTos-9Kqu",
        "outputId": "7c65d7d9-24ab-4e57-9e9b-aa98706e78ec"
      },
      "execution_count": null,
      "outputs": [
        {
          "output_type": "execute_result",
          "data": {
            "text/plain": [
              "RF    0\n",
              "BF    0\n",
              "VM    0\n",
              "ST    0\n",
              "FX    0\n",
              "dtype: int64"
            ]
          },
          "metadata": {},
          "execution_count": 117
        }
      ]
    },
    {
      "cell_type": "code",
      "source": [
        "dataset"
      ],
      "metadata": {
        "colab": {
          "base_uri": "https://localhost:8080/",
          "height": 207
        },
        "id": "Ov4SNAIS1YcZ",
        "outputId": "cc52a50f-5cee-449e-d86c-3ccde5847465"
      },
      "execution_count": null,
      "outputs": [
        {
          "output_type": "execute_result",
          "data": {
            "text/plain": [
              "  index target        RF                                      BF               \\\n",
              "                     rms          SSI abs_diffs_signal       rms          SSI   \n",
              "0     0      0  0.061495  3197.387299        7489.7953  0.035077  1040.328218   \n",
              "1     1      1  0.006748     0.227786          10.5177  0.037015     6.854727   \n",
              "\n",
              "                          VM                                      ST  \\\n",
              "  abs_diffs_signal       rms          SSI abs_diffs_signal       rms   \n",
              "0        8847.4462  0.073644  4585.621076        7962.1413  0.049487   \n",
              "1          62.9542  0.012347     0.762687          16.9374  0.070093   \n",
              "\n",
              "                                       FX                                 \n",
              "          SSI abs_diffs_signal        rms           SSI abs_diffs_signal  \n",
              "0  2070.63240       12863.9482  47.364083  1.896785e+09         136193.7  \n",
              "1    24.57989         112.7927  81.745541  3.343171e+07            646.7  "
            ],
            "text/html": [
              "\n",
              "  <div id=\"df-7095a648-076f-4ece-9613-2772576cb76e\">\n",
              "    <div class=\"colab-df-container\">\n",
              "      <div>\n",
              "<style scoped>\n",
              "    .dataframe tbody tr th:only-of-type {\n",
              "        vertical-align: middle;\n",
              "    }\n",
              "\n",
              "    .dataframe tbody tr th {\n",
              "        vertical-align: top;\n",
              "    }\n",
              "\n",
              "    .dataframe thead tr th {\n",
              "        text-align: left;\n",
              "    }\n",
              "</style>\n",
              "<table border=\"1\" class=\"dataframe\">\n",
              "  <thead>\n",
              "    <tr>\n",
              "      <th></th>\n",
              "      <th>index</th>\n",
              "      <th>target</th>\n",
              "      <th colspan=\"3\" halign=\"left\">RF</th>\n",
              "      <th colspan=\"3\" halign=\"left\">BF</th>\n",
              "      <th colspan=\"3\" halign=\"left\">VM</th>\n",
              "      <th colspan=\"3\" halign=\"left\">ST</th>\n",
              "      <th colspan=\"3\" halign=\"left\">FX</th>\n",
              "    </tr>\n",
              "    <tr>\n",
              "      <th></th>\n",
              "      <th></th>\n",
              "      <th></th>\n",
              "      <th>rms</th>\n",
              "      <th>SSI</th>\n",
              "      <th>abs_diffs_signal</th>\n",
              "      <th>rms</th>\n",
              "      <th>SSI</th>\n",
              "      <th>abs_diffs_signal</th>\n",
              "      <th>rms</th>\n",
              "      <th>SSI</th>\n",
              "      <th>abs_diffs_signal</th>\n",
              "      <th>rms</th>\n",
              "      <th>SSI</th>\n",
              "      <th>abs_diffs_signal</th>\n",
              "      <th>rms</th>\n",
              "      <th>SSI</th>\n",
              "      <th>abs_diffs_signal</th>\n",
              "    </tr>\n",
              "  </thead>\n",
              "  <tbody>\n",
              "    <tr>\n",
              "      <th>0</th>\n",
              "      <td>0</td>\n",
              "      <td>0</td>\n",
              "      <td>0.061495</td>\n",
              "      <td>3197.387299</td>\n",
              "      <td>7489.7953</td>\n",
              "      <td>0.035077</td>\n",
              "      <td>1040.328218</td>\n",
              "      <td>8847.4462</td>\n",
              "      <td>0.073644</td>\n",
              "      <td>4585.621076</td>\n",
              "      <td>7962.1413</td>\n",
              "      <td>0.049487</td>\n",
              "      <td>2070.63240</td>\n",
              "      <td>12863.9482</td>\n",
              "      <td>47.364083</td>\n",
              "      <td>1.896785e+09</td>\n",
              "      <td>136193.7</td>\n",
              "    </tr>\n",
              "    <tr>\n",
              "      <th>1</th>\n",
              "      <td>1</td>\n",
              "      <td>1</td>\n",
              "      <td>0.006748</td>\n",
              "      <td>0.227786</td>\n",
              "      <td>10.5177</td>\n",
              "      <td>0.037015</td>\n",
              "      <td>6.854727</td>\n",
              "      <td>62.9542</td>\n",
              "      <td>0.012347</td>\n",
              "      <td>0.762687</td>\n",
              "      <td>16.9374</td>\n",
              "      <td>0.070093</td>\n",
              "      <td>24.57989</td>\n",
              "      <td>112.7927</td>\n",
              "      <td>81.745541</td>\n",
              "      <td>3.343171e+07</td>\n",
              "      <td>646.7</td>\n",
              "    </tr>\n",
              "  </tbody>\n",
              "</table>\n",
              "</div>\n",
              "      <button class=\"colab-df-convert\" onclick=\"convertToInteractive('df-7095a648-076f-4ece-9613-2772576cb76e')\"\n",
              "              title=\"Convert this dataframe to an interactive table.\"\n",
              "              style=\"display:none;\">\n",
              "        \n",
              "  <svg xmlns=\"http://www.w3.org/2000/svg\" height=\"24px\"viewBox=\"0 0 24 24\"\n",
              "       width=\"24px\">\n",
              "    <path d=\"M0 0h24v24H0V0z\" fill=\"none\"/>\n",
              "    <path d=\"M18.56 5.44l.94 2.06.94-2.06 2.06-.94-2.06-.94-.94-2.06-.94 2.06-2.06.94zm-11 1L8.5 8.5l.94-2.06 2.06-.94-2.06-.94L8.5 2.5l-.94 2.06-2.06.94zm10 10l.94 2.06.94-2.06 2.06-.94-2.06-.94-.94-2.06-.94 2.06-2.06.94z\"/><path d=\"M17.41 7.96l-1.37-1.37c-.4-.4-.92-.59-1.43-.59-.52 0-1.04.2-1.43.59L10.3 9.45l-7.72 7.72c-.78.78-.78 2.05 0 2.83L4 21.41c.39.39.9.59 1.41.59.51 0 1.02-.2 1.41-.59l7.78-7.78 2.81-2.81c.8-.78.8-2.07 0-2.86zM5.41 20L4 18.59l7.72-7.72 1.47 1.35L5.41 20z\"/>\n",
              "  </svg>\n",
              "      </button>\n",
              "      \n",
              "  <style>\n",
              "    .colab-df-container {\n",
              "      display:flex;\n",
              "      flex-wrap:wrap;\n",
              "      gap: 12px;\n",
              "    }\n",
              "\n",
              "    .colab-df-convert {\n",
              "      background-color: #E8F0FE;\n",
              "      border: none;\n",
              "      border-radius: 50%;\n",
              "      cursor: pointer;\n",
              "      display: none;\n",
              "      fill: #1967D2;\n",
              "      height: 32px;\n",
              "      padding: 0 0 0 0;\n",
              "      width: 32px;\n",
              "    }\n",
              "\n",
              "    .colab-df-convert:hover {\n",
              "      background-color: #E2EBFA;\n",
              "      box-shadow: 0px 1px 2px rgba(60, 64, 67, 0.3), 0px 1px 3px 1px rgba(60, 64, 67, 0.15);\n",
              "      fill: #174EA6;\n",
              "    }\n",
              "\n",
              "    [theme=dark] .colab-df-convert {\n",
              "      background-color: #3B4455;\n",
              "      fill: #D2E3FC;\n",
              "    }\n",
              "\n",
              "    [theme=dark] .colab-df-convert:hover {\n",
              "      background-color: #434B5C;\n",
              "      box-shadow: 0px 1px 3px 1px rgba(0, 0, 0, 0.15);\n",
              "      filter: drop-shadow(0px 1px 2px rgba(0, 0, 0, 0.3));\n",
              "      fill: #FFFFFF;\n",
              "    }\n",
              "  </style>\n",
              "\n",
              "      <script>\n",
              "        const buttonEl =\n",
              "          document.querySelector('#df-7095a648-076f-4ece-9613-2772576cb76e button.colab-df-convert');\n",
              "        buttonEl.style.display =\n",
              "          google.colab.kernel.accessAllowed ? 'block' : 'none';\n",
              "\n",
              "        async function convertToInteractive(key) {\n",
              "          const element = document.querySelector('#df-7095a648-076f-4ece-9613-2772576cb76e');\n",
              "          const dataTable =\n",
              "            await google.colab.kernel.invokeFunction('convertToInteractive',\n",
              "                                                     [key], {});\n",
              "          if (!dataTable) return;\n",
              "\n",
              "          const docLinkHtml = 'Like what you see? Visit the ' +\n",
              "            '<a target=\"_blank\" href=https://colab.research.google.com/notebooks/data_table.ipynb>data table notebook</a>'\n",
              "            + ' to learn more about interactive tables.';\n",
              "          element.innerHTML = '';\n",
              "          dataTable['output_type'] = 'display_data';\n",
              "          await google.colab.output.renderOutput(dataTable, element);\n",
              "          const docLink = document.createElement('div');\n",
              "          docLink.innerHTML = docLinkHtml;\n",
              "          element.appendChild(docLink);\n",
              "        }\n",
              "      </script>\n",
              "    </div>\n",
              "  </div>\n",
              "  "
            ]
          },
          "metadata": {},
          "execution_count": 129
        }
      ]
    },
    {
      "cell_type": "code",
      "source": [
        "dataset.shape"
      ],
      "metadata": {
        "colab": {
          "base_uri": "https://localhost:8080/"
        },
        "id": "KnJsxSel1YgJ",
        "outputId": "26bb08d6-e377-4562-8f21-3e03ccbf5bf1"
      },
      "execution_count": null,
      "outputs": [
        {
          "output_type": "execute_result",
          "data": {
            "text/plain": [
              "(2, 17)"
            ]
          },
          "metadata": {},
          "execution_count": 130
        }
      ]
    },
    {
      "cell_type": "code",
      "source": [
        "for i in input_array:\n",
        "  print(i.shape)"
      ],
      "metadata": {
        "colab": {
          "base_uri": "https://localhost:8080/"
        },
        "id": "9h3NGP7hqB8o",
        "outputId": "74b14dcf-cca2-4a42-eeef-1f942edf8f53"
      },
      "execution_count": null,
      "outputs": [
        {
          "output_type": "stream",
          "name": "stdout",
          "text": [
            "(10659, 5)\n",
            "(5890, 5)\n",
            "(16848, 5)\n",
            "(9539, 5)\n",
            "(6922, 5)\n",
            "(16860, 5)\n",
            "(7522, 5)\n",
            "(15260, 5)\n",
            "(6563, 5)\n",
            "(13820, 5)\n",
            "(15600, 5)\n",
            "(15300, 5)\n",
            "(13480, 5)\n",
            "(22460, 5)\n",
            "(21140, 5)\n",
            "(15300, 5)\n",
            "(15940, 5)\n",
            "(14520, 5)\n",
            "(22860, 5)\n",
            "(5681, 5)\n",
            "(5343, 5)\n",
            "(29220, 5)\n",
            "(14520, 5)\n",
            "(7384, 5)\n",
            "(36900, 5)\n",
            "(5845, 5)\n",
            "(9227, 5)\n",
            "(18340, 5)\n",
            "(24160, 5)\n",
            "(8147, 5)\n",
            "(20500, 5)\n",
            "(15480, 5)\n",
            "(7300, 5)\n"
          ]
        }
      ]
    },
    {
      "cell_type": "code",
      "source": [
        "for i in input_array:\n",
        "    # zero numpy array\n",
        "    zero_array = np.zeros(largest_array.shape)\n",
        "    zero_array[:i.shape[0],:i.shape[1]] = i\n",
        "\n"
      ],
      "metadata": {
        "id": "96bWo59gqyOC"
      },
      "execution_count": null,
      "outputs": []
    },
    {
      "cell_type": "code",
      "source": [
        "padded_array = []\n",
        "padded_array.append(zero_array)"
      ],
      "metadata": {
        "id": "Zw494ZLhrJf-"
      },
      "execution_count": null,
      "outputs": []
    },
    {
      "cell_type": "code",
      "source": [
        "padded_array"
      ],
      "metadata": {
        "colab": {
          "base_uri": "https://localhost:8080/"
        },
        "id": "ROvBIC3usOzV",
        "outputId": "32c15a91-c45e-4a42-ded4-30720e7e271f"
      },
      "execution_count": null,
      "outputs": [
        {
          "output_type": "execute_result",
          "data": {
            "text/plain": [
              "[array([[-8.00e-04, -4.60e-03,  3.00e-03, -9.80e-03, -5.91e+01],\n",
              "        [ 7.00e-04, -5.30e-03,  1.50e-03, -6.00e-03, -5.92e+01],\n",
              "        [ 0.00e+00, -4.60e-03,  3.00e-03, -1.50e-03, -5.93e+01],\n",
              "        ...,\n",
              "        [ 0.00e+00,  0.00e+00,  0.00e+00,  0.00e+00,  0.00e+00],\n",
              "        [ 0.00e+00,  0.00e+00,  0.00e+00,  0.00e+00,  0.00e+00],\n",
              "        [ 0.00e+00,  0.00e+00,  0.00e+00,  0.00e+00,  0.00e+00]])]"
            ]
          },
          "metadata": {},
          "execution_count": 84
        }
      ]
    },
    {
      "cell_type": "code",
      "source": [
        "padded_array = np.dstack(padded_array)"
      ],
      "metadata": {
        "id": "0S2MlvYCrBtO"
      },
      "execution_count": null,
      "outputs": []
    },
    {
      "cell_type": "code",
      "source": [
        "padded_array"
      ],
      "metadata": {
        "colab": {
          "base_uri": "https://localhost:8080/"
        },
        "id": "hL4nqx_sr98i",
        "outputId": "de27f64d-a3cc-4b33-f1ea-cee304e8c13b"
      },
      "execution_count": null,
      "outputs": [
        {
          "output_type": "execute_result",
          "data": {
            "text/plain": [
              "array([[[-8.00e-04],\n",
              "        [-4.60e-03],\n",
              "        [ 3.00e-03],\n",
              "        [-9.80e-03],\n",
              "        [-5.91e+01]],\n",
              "\n",
              "       [[ 7.00e-04],\n",
              "        [-5.30e-03],\n",
              "        [ 1.50e-03],\n",
              "        [-6.00e-03],\n",
              "        [-5.92e+01]],\n",
              "\n",
              "       [[ 0.00e+00],\n",
              "        [-4.60e-03],\n",
              "        [ 3.00e-03],\n",
              "        [-1.50e-03],\n",
              "        [-5.93e+01]],\n",
              "\n",
              "       ...,\n",
              "\n",
              "       [[ 0.00e+00],\n",
              "        [ 0.00e+00],\n",
              "        [ 0.00e+00],\n",
              "        [ 0.00e+00],\n",
              "        [ 0.00e+00]],\n",
              "\n",
              "       [[ 0.00e+00],\n",
              "        [ 0.00e+00],\n",
              "        [ 0.00e+00],\n",
              "        [ 0.00e+00],\n",
              "        [ 0.00e+00]],\n",
              "\n",
              "       [[ 0.00e+00],\n",
              "        [ 0.00e+00],\n",
              "        [ 0.00e+00],\n",
              "        [ 0.00e+00],\n",
              "        [ 0.00e+00]]])"
            ]
          },
          "metadata": {},
          "execution_count": 88
        }
      ]
    },
    {
      "cell_type": "code",
      "source": [
        "padded_array.shape"
      ],
      "metadata": {
        "colab": {
          "base_uri": "https://localhost:8080/"
        },
        "id": "VWYf0dwYrriH",
        "outputId": "4a302cc6-2abe-4dda-fe2d-1e8d21958fda"
      },
      "execution_count": null,
      "outputs": [
        {
          "output_type": "execute_result",
          "data": {
            "text/plain": [
              "(36900, 5, 1)"
            ]
          },
          "metadata": {},
          "execution_count": 76
        }
      ]
    },
    {
      "cell_type": "code",
      "source": [
        "padded_array = padded_array.transpose(0,2,1)"
      ],
      "metadata": {
        "id": "gd4150FRrxty"
      },
      "execution_count": null,
      "outputs": []
    },
    {
      "cell_type": "code",
      "source": [
        "padded_array"
      ],
      "metadata": {
        "colab": {
          "base_uri": "https://localhost:8080/"
        },
        "id": "x90dDjkfsdMG",
        "outputId": "a5215e45-da40-4829-903e-306a32b45715"
      },
      "execution_count": null,
      "outputs": [
        {
          "output_type": "execute_result",
          "data": {
            "text/plain": [
              "array([[[-8.00e-04, -4.60e-03,  3.00e-03, -9.80e-03, -5.91e+01]],\n",
              "\n",
              "       [[ 7.00e-04, -5.30e-03,  1.50e-03, -6.00e-03, -5.92e+01]],\n",
              "\n",
              "       [[ 0.00e+00, -4.60e-03,  3.00e-03, -1.50e-03, -5.93e+01]],\n",
              "\n",
              "       ...,\n",
              "\n",
              "       [[ 0.00e+00,  0.00e+00,  0.00e+00,  0.00e+00,  0.00e+00]],\n",
              "\n",
              "       [[ 0.00e+00,  0.00e+00,  0.00e+00,  0.00e+00,  0.00e+00]],\n",
              "\n",
              "       [[ 0.00e+00,  0.00e+00,  0.00e+00,  0.00e+00,  0.00e+00]]])"
            ]
          },
          "metadata": {},
          "execution_count": 90
        }
      ]
    },
    {
      "cell_type": "code",
      "source": [
        "padded_array.shape"
      ],
      "metadata": {
        "colab": {
          "base_uri": "https://localhost:8080/"
        },
        "id": "v-Y-bozBr0yF",
        "outputId": "43285537-0575-4f01-a6d7-6f12fdb8a584"
      },
      "execution_count": null,
      "outputs": [
        {
          "output_type": "execute_result",
          "data": {
            "text/plain": [
              "(36900, 1, 5)"
            ]
          },
          "metadata": {},
          "execution_count": 78
        }
      ]
    },
    {
      "cell_type": "code",
      "source": [
        "\n",
        "# Preprocessing Function\n",
        "\n",
        "def preprocess(folder, names):\n",
        "    \n",
        "    input_array = []\n",
        "    classes = []\n",
        "    \n",
        "    # iterates through folder\n",
        "    for filename in os.listdir(folder):\n",
        "        if filename.endswith('.txt'):\n",
        "            # instantiates each sEMG data\n",
        "            sEMG = sEMGData(folder + filename, names)\n",
        "            \n",
        "            input_array.append(sEMG.return_array())\n",
        "            classes.append(sEMG.return_output())\n",
        "    \n",
        "    # finds the max length of a sEMG sequence \n",
        "    max_len = max([len(i) for i in input_array])\n",
        "    \n",
        "    for i in input_array:\n",
        "        if (len(i) == max_len):\n",
        "            largest_array = i\n",
        "    \n",
        "    # list of padded sEMG numpy arrays\n",
        "    padded_array = []\n",
        "    \n",
        "    # loop through input_array and append into new padded array\n",
        "    for i in input_array:\n",
        "        # zero numpy array\n",
        "        zero_array = np.zeros(largest_array.shape)\n",
        "        zero_array[:i.shape[0],:i.shape[1]] = i\n",
        "\n",
        "        padded_array.append(zero_array)\n",
        "    \n",
        "    # convert to 3d numpy array\n",
        "    padded_array = np.dstack(padded_array)\n",
        "    \n",
        "    # transpose array\n",
        "    padded_array = padded_array.transpose(2,0,1)\n",
        "    \n",
        "    return padded_array, classes"
      ],
      "metadata": {
        "id": "JkHwT08uf7Yf"
      },
      "execution_count": null,
      "outputs": []
    },
    {
      "cell_type": "code",
      "source": [
        "input_normal_array, normal_classes = preprocess(file_path, 'N_TXT')\n",
        "input_abnormal_array, abnormal_classes = preprocess(abnormal_path, 'A_TXT')"
      ],
      "metadata": {
        "id": "RVnx_7bgg_C4",
        "colab": {
          "base_uri": "https://localhost:8080/"
        },
        "outputId": "a31946c2-24d0-410e-e77b-c522713015c8"
      },
      "execution_count": null,
      "outputs": [
        {
          "output_type": "stream",
          "name": "stderr",
          "text": [
            "/usr/local/lib/python3.7/dist-packages/ipykernel_launcher.py:19: ConversionWarning: Some errors were detected !\n",
            "    Line #9547 (got 1 columns instead of 5)\n",
            "    Line #9548 (got 1 columns instead of 5)\n",
            "    Line #9549 (got 1 columns instead of 5)\n",
            "    Line #9550 (got 1 columns instead of 5)\n",
            "    Line #9551 (got 1 columns instead of 5)\n",
            "    Line #9552 (got 1 columns instead of 5)\n",
            "    Line #9553 (got 1 columns instead of 5)\n",
            "    Line #9554 (got 1 columns instead of 5)\n",
            "    Line #9555 (got 1 columns instead of 5)\n",
            "    Line #9556 (got 1 columns instead of 5)\n",
            "    Line #9557 (got 1 columns instead of 5)\n",
            "    Line #9558 (got 1 columns instead of 5)\n",
            "    Line #9559 (got 1 columns instead of 5)\n",
            "    Line #9560 (got 1 columns instead of 5)\n",
            "    Line #9561 (got 1 columns instead of 5)\n",
            "    Line #9562 (got 1 columns instead of 5)\n",
            "    Line #9563 (got 1 columns instead of 5)\n",
            "    Line #9564 (got 1 columns instead of 5)\n",
            "    Line #9565 (got 1 columns instead of 5)\n",
            "    Line #9566 (got 1 columns instead of 5)\n",
            "    Line #9567 (got 1 columns instead of 5)\n",
            "/usr/local/lib/python3.7/dist-packages/ipykernel_launcher.py:19: ConversionWarning: Some errors were detected !\n",
            "    Line #6930 (got 1 columns instead of 5)\n",
            "    Line #6931 (got 1 columns instead of 5)\n",
            "    Line #6932 (got 1 columns instead of 5)\n",
            "    Line #6933 (got 1 columns instead of 5)\n",
            "    Line #6934 (got 1 columns instead of 5)\n",
            "    Line #6935 (got 1 columns instead of 5)\n",
            "    Line #6936 (got 1 columns instead of 5)\n",
            "    Line #6937 (got 1 columns instead of 5)\n",
            "    Line #6938 (got 1 columns instead of 5)\n",
            "    Line #6939 (got 1 columns instead of 5)\n",
            "    Line #6940 (got 1 columns instead of 5)\n",
            "    Line #6941 (got 1 columns instead of 5)\n",
            "    Line #6942 (got 1 columns instead of 5)\n",
            "    Line #6943 (got 1 columns instead of 5)\n",
            "    Line #6944 (got 1 columns instead of 5)\n",
            "    Line #6945 (got 1 columns instead of 5)\n",
            "    Line #6946 (got 1 columns instead of 5)\n",
            "    Line #6947 (got 1 columns instead of 5)\n",
            "/usr/local/lib/python3.7/dist-packages/ipykernel_launcher.py:19: ConversionWarning: Some errors were detected !\n",
            "    Line #7530 (got 1 columns instead of 5)\n",
            "    Line #7531 (got 1 columns instead of 5)\n",
            "    Line #7532 (got 1 columns instead of 5)\n",
            "    Line #7533 (got 1 columns instead of 5)\n",
            "    Line #7534 (got 1 columns instead of 5)\n",
            "    Line #7535 (got 1 columns instead of 5)\n",
            "    Line #7536 (got 1 columns instead of 5)\n",
            "    Line #7537 (got 1 columns instead of 5)\n",
            "    Line #7538 (got 1 columns instead of 5)\n",
            "    Line #7539 (got 1 columns instead of 5)\n",
            "    Line #7540 (got 1 columns instead of 5)\n",
            "    Line #7541 (got 1 columns instead of 5)\n",
            "    Line #7542 (got 1 columns instead of 5)\n",
            "    Line #7543 (got 1 columns instead of 5)\n",
            "    Line #7544 (got 1 columns instead of 5)\n",
            "    Line #7545 (got 1 columns instead of 5)\n",
            "    Line #7546 (got 1 columns instead of 5)\n",
            "    Line #7547 (got 1 columns instead of 5)\n",
            "/usr/local/lib/python3.7/dist-packages/ipykernel_launcher.py:19: ConversionWarning: Some errors were detected !\n",
            "    Line #6571 (got 1 columns instead of 5)\n",
            "    Line #6572 (got 1 columns instead of 5)\n",
            "    Line #6573 (got 1 columns instead of 5)\n",
            "    Line #6574 (got 1 columns instead of 5)\n",
            "    Line #6575 (got 1 columns instead of 5)\n",
            "    Line #6576 (got 1 columns instead of 5)\n",
            "    Line #6577 (got 1 columns instead of 5)\n",
            "    Line #6578 (got 1 columns instead of 5)\n",
            "    Line #6579 (got 1 columns instead of 5)\n",
            "    Line #6580 (got 1 columns instead of 5)\n",
            "    Line #6581 (got 1 columns instead of 5)\n",
            "    Line #6582 (got 1 columns instead of 5)\n",
            "    Line #6583 (got 1 columns instead of 5)\n",
            "    Line #6584 (got 1 columns instead of 5)\n",
            "    Line #6585 (got 1 columns instead of 5)\n",
            "    Line #6586 (got 1 columns instead of 5)\n",
            "    Line #6587 (got 1 columns instead of 5)\n",
            "/usr/local/lib/python3.7/dist-packages/ipykernel_launcher.py:19: ConversionWarning: Some errors were detected !\n",
            "    Line #15608 (got 4 columns instead of 5)\n",
            "/usr/local/lib/python3.7/dist-packages/ipykernel_launcher.py:19: ConversionWarning: Some errors were detected !\n",
            "    Line #15948 (got 4 columns instead of 5)\n",
            "/usr/local/lib/python3.7/dist-packages/ipykernel_launcher.py:19: ConversionWarning: Some errors were detected !\n",
            "    Line #5689 (got 1 columns instead of 5)\n",
            "    Line #5690 (got 1 columns instead of 5)\n",
            "    Line #5691 (got 1 columns instead of 5)\n",
            "    Line #5692 (got 1 columns instead of 5)\n",
            "    Line #5693 (got 1 columns instead of 5)\n",
            "    Line #5694 (got 1 columns instead of 5)\n",
            "    Line #5695 (got 1 columns instead of 5)\n",
            "    Line #5696 (got 1 columns instead of 5)\n",
            "    Line #5697 (got 1 columns instead of 5)\n",
            "    Line #5698 (got 1 columns instead of 5)\n",
            "    Line #5699 (got 1 columns instead of 5)\n",
            "    Line #5700 (got 1 columns instead of 5)\n",
            "    Line #5701 (got 1 columns instead of 5)\n",
            "    Line #5702 (got 1 columns instead of 5)\n",
            "    Line #5703 (got 1 columns instead of 5)\n",
            "    Line #5704 (got 1 columns instead of 5)\n",
            "    Line #5705 (got 1 columns instead of 5)\n",
            "    Line #5706 (got 1 columns instead of 5)\n",
            "    Line #5707 (got 1 columns instead of 5)\n",
            "/usr/local/lib/python3.7/dist-packages/ipykernel_launcher.py:19: ConversionWarning: Some errors were detected !\n",
            "    Line #5351 (got 1 columns instead of 5)\n",
            "    Line #5352 (got 1 columns instead of 5)\n",
            "    Line #5353 (got 1 columns instead of 5)\n",
            "    Line #5354 (got 1 columns instead of 5)\n",
            "    Line #5355 (got 1 columns instead of 5)\n",
            "    Line #5356 (got 1 columns instead of 5)\n",
            "    Line #5357 (got 1 columns instead of 5)\n",
            "    Line #5358 (got 1 columns instead of 5)\n",
            "    Line #5359 (got 1 columns instead of 5)\n",
            "    Line #5360 (got 1 columns instead of 5)\n",
            "    Line #5361 (got 1 columns instead of 5)\n",
            "    Line #5362 (got 1 columns instead of 5)\n",
            "    Line #5363 (got 1 columns instead of 5)\n",
            "    Line #5364 (got 1 columns instead of 5)\n",
            "    Line #5365 (got 1 columns instead of 5)\n",
            "    Line #5366 (got 1 columns instead of 5)\n",
            "    Line #5367 (got 1 columns instead of 5)\n",
            "/usr/local/lib/python3.7/dist-packages/ipykernel_launcher.py:19: ConversionWarning: Some errors were detected !\n",
            "    Line #7392 (got 1 columns instead of 5)\n",
            "    Line #7393 (got 1 columns instead of 5)\n",
            "    Line #7394 (got 1 columns instead of 5)\n",
            "    Line #7395 (got 1 columns instead of 5)\n",
            "    Line #7396 (got 1 columns instead of 5)\n",
            "    Line #7397 (got 1 columns instead of 5)\n",
            "    Line #7398 (got 1 columns instead of 5)\n",
            "    Line #7399 (got 1 columns instead of 5)\n",
            "    Line #7400 (got 1 columns instead of 5)\n",
            "    Line #7401 (got 1 columns instead of 5)\n",
            "    Line #7402 (got 1 columns instead of 5)\n",
            "    Line #7403 (got 1 columns instead of 5)\n",
            "    Line #7404 (got 1 columns instead of 5)\n",
            "    Line #7405 (got 1 columns instead of 5)\n",
            "    Line #7406 (got 1 columns instead of 5)\n",
            "    Line #7407 (got 1 columns instead of 5)\n",
            "/usr/local/lib/python3.7/dist-packages/ipykernel_launcher.py:19: ConversionWarning: Some errors were detected !\n",
            "    Line #5853 (got 1 columns instead of 5)\n",
            "    Line #5854 (got 1 columns instead of 5)\n",
            "    Line #5855 (got 1 columns instead of 5)\n",
            "    Line #5856 (got 1 columns instead of 5)\n",
            "    Line #5857 (got 1 columns instead of 5)\n",
            "    Line #5858 (got 1 columns instead of 5)\n",
            "    Line #5859 (got 1 columns instead of 5)\n",
            "    Line #5860 (got 1 columns instead of 5)\n",
            "    Line #5861 (got 1 columns instead of 5)\n",
            "    Line #5862 (got 1 columns instead of 5)\n",
            "    Line #5863 (got 1 columns instead of 5)\n",
            "    Line #5864 (got 1 columns instead of 5)\n",
            "    Line #5865 (got 1 columns instead of 5)\n",
            "    Line #5866 (got 1 columns instead of 5)\n",
            "    Line #5867 (got 1 columns instead of 5)\n",
            "/usr/local/lib/python3.7/dist-packages/ipykernel_launcher.py:19: ConversionWarning: Some errors were detected !\n",
            "    Line #9235 (got 1 columns instead of 5)\n",
            "    Line #9236 (got 1 columns instead of 5)\n",
            "    Line #9237 (got 1 columns instead of 5)\n",
            "    Line #9238 (got 1 columns instead of 5)\n",
            "    Line #9239 (got 1 columns instead of 5)\n",
            "    Line #9240 (got 1 columns instead of 5)\n",
            "    Line #9241 (got 1 columns instead of 5)\n",
            "    Line #9242 (got 1 columns instead of 5)\n",
            "    Line #9243 (got 1 columns instead of 5)\n",
            "    Line #9244 (got 1 columns instead of 5)\n",
            "    Line #9245 (got 1 columns instead of 5)\n",
            "    Line #9246 (got 1 columns instead of 5)\n",
            "    Line #9247 (got 1 columns instead of 5)\n",
            "/usr/local/lib/python3.7/dist-packages/ipykernel_launcher.py:19: ConversionWarning: Some errors were detected !\n",
            "    Line #24168 (got 4 columns instead of 5)\n",
            "/usr/local/lib/python3.7/dist-packages/ipykernel_launcher.py:19: ConversionWarning: Some errors were detected !\n",
            "    Line #7308 (got 1 columns instead of 5)\n",
            "    Line #7309 (got 1 columns instead of 5)\n",
            "    Line #7310 (got 1 columns instead of 5)\n",
            "    Line #7311 (got 1 columns instead of 5)\n",
            "    Line #7312 (got 1 columns instead of 5)\n",
            "    Line #7313 (got 1 columns instead of 5)\n",
            "    Line #7314 (got 1 columns instead of 5)\n",
            "    Line #7315 (got 1 columns instead of 5)\n",
            "    Line #7316 (got 1 columns instead of 5)\n",
            "    Line #7317 (got 1 columns instead of 5)\n",
            "    Line #7318 (got 1 columns instead of 5)\n",
            "    Line #7319 (got 1 columns instead of 5)\n",
            "    Line #7320 (got 1 columns instead of 5)\n",
            "    Line #7321 (got 1 columns instead of 5)\n",
            "    Line #7322 (got 1 columns instead of 5)\n",
            "    Line #7323 (got 1 columns instead of 5)\n",
            "    Line #7324 (got 1 columns instead of 5)\n",
            "    Line #7325 (got 1 columns instead of 5)\n",
            "    Line #7326 (got 1 columns instead of 5)\n",
            "    Line #7327 (got 1 columns instead of 5)\n"
          ]
        }
      ]
    },
    {
      "cell_type": "code",
      "source": [
        "\n",
        "# Preprocessing Function\n",
        "\n",
        "def preprocess(folder1, folder2):\n",
        "    \n",
        "    input_array = []\n",
        "    classes = []\n",
        "    \n",
        "    # iterates through folder1 N \n",
        "    for filename in os.listdir(folder1):\n",
        "        if filename.endswith('.txt'):\n",
        "            # instantiates each sEMG data\n",
        "            sEMG = sEMGData(folder1 + filename, \"N_TXT\")\n",
        "            \n",
        "            input_array.append(sEMG.return_array())\n",
        "            classes.append(sEMG.return_output())\n",
        "\n",
        "     # iterates through folder\n",
        "    for filename in os.listdir(folder2):\n",
        "        if filename.endswith('.txt'):\n",
        "            # instantiates each sEMG data\n",
        "            sEMG = sEMGData(folder2 + filename, \"A_TXT\")\n",
        "            \n",
        "            input_array.append(sEMG.return_array())\n",
        "            classes.append(sEMG.return_output())\n",
        "\n",
        "    # finds the max length of a sEMG sequence \n",
        "    max_len = max([len(i) for i in input_array])\n",
        "    \n",
        "    for i in input_array:\n",
        "        if (len(i) == max_len):\n",
        "            largest_array = i\n",
        "    \n",
        "    # list of padded sEMG numpy arrays\n",
        "    padded_array = []\n",
        "    \n",
        "    # loop through input_array and append into new padded array\n",
        "    for i in input_array:\n",
        "        # zero numpy array\n",
        "        zero_array = np.zeros(largest_array.shape)\n",
        "        zero_array[:i.shape[0],:i.shape[1]] = i\n",
        "\n",
        "        padded_array.append(zero_array)\n",
        "    \n",
        "    # convert to 3d numpy array\n",
        "    padded_array = np.dstack(padded_array)\n",
        "    \n",
        "    # transpose array\n",
        "    padded_array = padded_array.transpose(2,0,1)\n",
        "    \n",
        "    return padded_array, classes"
      ],
      "metadata": {
        "id": "xKb93iHhyfuX"
      },
      "execution_count": null,
      "outputs": []
    },
    {
      "cell_type": "code",
      "source": [
        "input_array,classes = preprocess(file_path, abnormal_path)"
      ],
      "metadata": {
        "colab": {
          "base_uri": "https://localhost:8080/"
        },
        "id": "UusDPQuhzDuX",
        "outputId": "c5eef463-700b-4b0f-fd6c-4af3afb8b473"
      },
      "execution_count": null,
      "outputs": [
        {
          "output_type": "stream",
          "name": "stderr",
          "text": [
            "/usr/local/lib/python3.7/dist-packages/ipykernel_launcher.py:19: ConversionWarning: Some errors were detected !\n",
            "    Line #9547 (got 1 columns instead of 5)\n",
            "    Line #9548 (got 1 columns instead of 5)\n",
            "    Line #9549 (got 1 columns instead of 5)\n",
            "    Line #9550 (got 1 columns instead of 5)\n",
            "    Line #9551 (got 1 columns instead of 5)\n",
            "    Line #9552 (got 1 columns instead of 5)\n",
            "    Line #9553 (got 1 columns instead of 5)\n",
            "    Line #9554 (got 1 columns instead of 5)\n",
            "    Line #9555 (got 1 columns instead of 5)\n",
            "    Line #9556 (got 1 columns instead of 5)\n",
            "    Line #9557 (got 1 columns instead of 5)\n",
            "    Line #9558 (got 1 columns instead of 5)\n",
            "    Line #9559 (got 1 columns instead of 5)\n",
            "    Line #9560 (got 1 columns instead of 5)\n",
            "    Line #9561 (got 1 columns instead of 5)\n",
            "    Line #9562 (got 1 columns instead of 5)\n",
            "    Line #9563 (got 1 columns instead of 5)\n",
            "    Line #9564 (got 1 columns instead of 5)\n",
            "    Line #9565 (got 1 columns instead of 5)\n",
            "    Line #9566 (got 1 columns instead of 5)\n",
            "    Line #9567 (got 1 columns instead of 5)\n",
            "/usr/local/lib/python3.7/dist-packages/ipykernel_launcher.py:19: ConversionWarning: Some errors were detected !\n",
            "    Line #6930 (got 1 columns instead of 5)\n",
            "    Line #6931 (got 1 columns instead of 5)\n",
            "    Line #6932 (got 1 columns instead of 5)\n",
            "    Line #6933 (got 1 columns instead of 5)\n",
            "    Line #6934 (got 1 columns instead of 5)\n",
            "    Line #6935 (got 1 columns instead of 5)\n",
            "    Line #6936 (got 1 columns instead of 5)\n",
            "    Line #6937 (got 1 columns instead of 5)\n",
            "    Line #6938 (got 1 columns instead of 5)\n",
            "    Line #6939 (got 1 columns instead of 5)\n",
            "    Line #6940 (got 1 columns instead of 5)\n",
            "    Line #6941 (got 1 columns instead of 5)\n",
            "    Line #6942 (got 1 columns instead of 5)\n",
            "    Line #6943 (got 1 columns instead of 5)\n",
            "    Line #6944 (got 1 columns instead of 5)\n",
            "    Line #6945 (got 1 columns instead of 5)\n",
            "    Line #6946 (got 1 columns instead of 5)\n",
            "    Line #6947 (got 1 columns instead of 5)\n",
            "/usr/local/lib/python3.7/dist-packages/ipykernel_launcher.py:19: ConversionWarning: Some errors were detected !\n",
            "    Line #7530 (got 1 columns instead of 5)\n",
            "    Line #7531 (got 1 columns instead of 5)\n",
            "    Line #7532 (got 1 columns instead of 5)\n",
            "    Line #7533 (got 1 columns instead of 5)\n",
            "    Line #7534 (got 1 columns instead of 5)\n",
            "    Line #7535 (got 1 columns instead of 5)\n",
            "    Line #7536 (got 1 columns instead of 5)\n",
            "    Line #7537 (got 1 columns instead of 5)\n",
            "    Line #7538 (got 1 columns instead of 5)\n",
            "    Line #7539 (got 1 columns instead of 5)\n",
            "    Line #7540 (got 1 columns instead of 5)\n",
            "    Line #7541 (got 1 columns instead of 5)\n",
            "    Line #7542 (got 1 columns instead of 5)\n",
            "    Line #7543 (got 1 columns instead of 5)\n",
            "    Line #7544 (got 1 columns instead of 5)\n",
            "    Line #7545 (got 1 columns instead of 5)\n",
            "    Line #7546 (got 1 columns instead of 5)\n",
            "    Line #7547 (got 1 columns instead of 5)\n",
            "/usr/local/lib/python3.7/dist-packages/ipykernel_launcher.py:19: ConversionWarning: Some errors were detected !\n",
            "    Line #6571 (got 1 columns instead of 5)\n",
            "    Line #6572 (got 1 columns instead of 5)\n",
            "    Line #6573 (got 1 columns instead of 5)\n",
            "    Line #6574 (got 1 columns instead of 5)\n",
            "    Line #6575 (got 1 columns instead of 5)\n",
            "    Line #6576 (got 1 columns instead of 5)\n",
            "    Line #6577 (got 1 columns instead of 5)\n",
            "    Line #6578 (got 1 columns instead of 5)\n",
            "    Line #6579 (got 1 columns instead of 5)\n",
            "    Line #6580 (got 1 columns instead of 5)\n",
            "    Line #6581 (got 1 columns instead of 5)\n",
            "    Line #6582 (got 1 columns instead of 5)\n",
            "    Line #6583 (got 1 columns instead of 5)\n",
            "    Line #6584 (got 1 columns instead of 5)\n",
            "    Line #6585 (got 1 columns instead of 5)\n",
            "    Line #6586 (got 1 columns instead of 5)\n",
            "    Line #6587 (got 1 columns instead of 5)\n",
            "/usr/local/lib/python3.7/dist-packages/ipykernel_launcher.py:19: ConversionWarning: Some errors were detected !\n",
            "    Line #15608 (got 4 columns instead of 5)\n",
            "/usr/local/lib/python3.7/dist-packages/ipykernel_launcher.py:19: ConversionWarning: Some errors were detected !\n",
            "    Line #15948 (got 4 columns instead of 5)\n",
            "/usr/local/lib/python3.7/dist-packages/ipykernel_launcher.py:19: ConversionWarning: Some errors were detected !\n",
            "    Line #5689 (got 1 columns instead of 5)\n",
            "    Line #5690 (got 1 columns instead of 5)\n",
            "    Line #5691 (got 1 columns instead of 5)\n",
            "    Line #5692 (got 1 columns instead of 5)\n",
            "    Line #5693 (got 1 columns instead of 5)\n",
            "    Line #5694 (got 1 columns instead of 5)\n",
            "    Line #5695 (got 1 columns instead of 5)\n",
            "    Line #5696 (got 1 columns instead of 5)\n",
            "    Line #5697 (got 1 columns instead of 5)\n",
            "    Line #5698 (got 1 columns instead of 5)\n",
            "    Line #5699 (got 1 columns instead of 5)\n",
            "    Line #5700 (got 1 columns instead of 5)\n",
            "    Line #5701 (got 1 columns instead of 5)\n",
            "    Line #5702 (got 1 columns instead of 5)\n",
            "    Line #5703 (got 1 columns instead of 5)\n",
            "    Line #5704 (got 1 columns instead of 5)\n",
            "    Line #5705 (got 1 columns instead of 5)\n",
            "    Line #5706 (got 1 columns instead of 5)\n",
            "    Line #5707 (got 1 columns instead of 5)\n",
            "/usr/local/lib/python3.7/dist-packages/ipykernel_launcher.py:19: ConversionWarning: Some errors were detected !\n",
            "    Line #5351 (got 1 columns instead of 5)\n",
            "    Line #5352 (got 1 columns instead of 5)\n",
            "    Line #5353 (got 1 columns instead of 5)\n",
            "    Line #5354 (got 1 columns instead of 5)\n",
            "    Line #5355 (got 1 columns instead of 5)\n",
            "    Line #5356 (got 1 columns instead of 5)\n",
            "    Line #5357 (got 1 columns instead of 5)\n",
            "    Line #5358 (got 1 columns instead of 5)\n",
            "    Line #5359 (got 1 columns instead of 5)\n",
            "    Line #5360 (got 1 columns instead of 5)\n",
            "    Line #5361 (got 1 columns instead of 5)\n",
            "    Line #5362 (got 1 columns instead of 5)\n",
            "    Line #5363 (got 1 columns instead of 5)\n",
            "    Line #5364 (got 1 columns instead of 5)\n",
            "    Line #5365 (got 1 columns instead of 5)\n",
            "    Line #5366 (got 1 columns instead of 5)\n",
            "    Line #5367 (got 1 columns instead of 5)\n",
            "/usr/local/lib/python3.7/dist-packages/ipykernel_launcher.py:19: ConversionWarning: Some errors were detected !\n",
            "    Line #7392 (got 1 columns instead of 5)\n",
            "    Line #7393 (got 1 columns instead of 5)\n",
            "    Line #7394 (got 1 columns instead of 5)\n",
            "    Line #7395 (got 1 columns instead of 5)\n",
            "    Line #7396 (got 1 columns instead of 5)\n",
            "    Line #7397 (got 1 columns instead of 5)\n",
            "    Line #7398 (got 1 columns instead of 5)\n",
            "    Line #7399 (got 1 columns instead of 5)\n",
            "    Line #7400 (got 1 columns instead of 5)\n",
            "    Line #7401 (got 1 columns instead of 5)\n",
            "    Line #7402 (got 1 columns instead of 5)\n",
            "    Line #7403 (got 1 columns instead of 5)\n",
            "    Line #7404 (got 1 columns instead of 5)\n",
            "    Line #7405 (got 1 columns instead of 5)\n",
            "    Line #7406 (got 1 columns instead of 5)\n",
            "    Line #7407 (got 1 columns instead of 5)\n",
            "/usr/local/lib/python3.7/dist-packages/ipykernel_launcher.py:19: ConversionWarning: Some errors were detected !\n",
            "    Line #5853 (got 1 columns instead of 5)\n",
            "    Line #5854 (got 1 columns instead of 5)\n",
            "    Line #5855 (got 1 columns instead of 5)\n",
            "    Line #5856 (got 1 columns instead of 5)\n",
            "    Line #5857 (got 1 columns instead of 5)\n",
            "    Line #5858 (got 1 columns instead of 5)\n",
            "    Line #5859 (got 1 columns instead of 5)\n",
            "    Line #5860 (got 1 columns instead of 5)\n",
            "    Line #5861 (got 1 columns instead of 5)\n",
            "    Line #5862 (got 1 columns instead of 5)\n",
            "    Line #5863 (got 1 columns instead of 5)\n",
            "    Line #5864 (got 1 columns instead of 5)\n",
            "    Line #5865 (got 1 columns instead of 5)\n",
            "    Line #5866 (got 1 columns instead of 5)\n",
            "    Line #5867 (got 1 columns instead of 5)\n",
            "/usr/local/lib/python3.7/dist-packages/ipykernel_launcher.py:19: ConversionWarning: Some errors were detected !\n",
            "    Line #9235 (got 1 columns instead of 5)\n",
            "    Line #9236 (got 1 columns instead of 5)\n",
            "    Line #9237 (got 1 columns instead of 5)\n",
            "    Line #9238 (got 1 columns instead of 5)\n",
            "    Line #9239 (got 1 columns instead of 5)\n",
            "    Line #9240 (got 1 columns instead of 5)\n",
            "    Line #9241 (got 1 columns instead of 5)\n",
            "    Line #9242 (got 1 columns instead of 5)\n",
            "    Line #9243 (got 1 columns instead of 5)\n",
            "    Line #9244 (got 1 columns instead of 5)\n",
            "    Line #9245 (got 1 columns instead of 5)\n",
            "    Line #9246 (got 1 columns instead of 5)\n",
            "    Line #9247 (got 1 columns instead of 5)\n",
            "/usr/local/lib/python3.7/dist-packages/ipykernel_launcher.py:19: ConversionWarning: Some errors were detected !\n",
            "    Line #24168 (got 4 columns instead of 5)\n",
            "/usr/local/lib/python3.7/dist-packages/ipykernel_launcher.py:19: ConversionWarning: Some errors were detected !\n",
            "    Line #7308 (got 1 columns instead of 5)\n",
            "    Line #7309 (got 1 columns instead of 5)\n",
            "    Line #7310 (got 1 columns instead of 5)\n",
            "    Line #7311 (got 1 columns instead of 5)\n",
            "    Line #7312 (got 1 columns instead of 5)\n",
            "    Line #7313 (got 1 columns instead of 5)\n",
            "    Line #7314 (got 1 columns instead of 5)\n",
            "    Line #7315 (got 1 columns instead of 5)\n",
            "    Line #7316 (got 1 columns instead of 5)\n",
            "    Line #7317 (got 1 columns instead of 5)\n",
            "    Line #7318 (got 1 columns instead of 5)\n",
            "    Line #7319 (got 1 columns instead of 5)\n",
            "    Line #7320 (got 1 columns instead of 5)\n",
            "    Line #7321 (got 1 columns instead of 5)\n",
            "    Line #7322 (got 1 columns instead of 5)\n",
            "    Line #7323 (got 1 columns instead of 5)\n",
            "    Line #7324 (got 1 columns instead of 5)\n",
            "    Line #7325 (got 1 columns instead of 5)\n",
            "    Line #7326 (got 1 columns instead of 5)\n",
            "    Line #7327 (got 1 columns instead of 5)\n"
          ]
        }
      ]
    },
    {
      "cell_type": "code",
      "source": [
        "input_array.shape"
      ],
      "metadata": {
        "colab": {
          "base_uri": "https://localhost:8080/"
        },
        "id": "ZYnJLqp0zMnH",
        "outputId": "3ceb15ea-f942-4256-f15d-01633e5b4483"
      },
      "execution_count": null,
      "outputs": [
        {
          "output_type": "execute_result",
          "data": {
            "text/plain": [
              "(66, 69374, 5)"
            ]
          },
          "metadata": {},
          "execution_count": 66
        }
      ]
    },
    {
      "cell_type": "code",
      "source": [
        "abnormal_classes"
      ],
      "metadata": {
        "colab": {
          "base_uri": "https://localhost:8080/"
        },
        "id": "6tu0XvNnhBz_",
        "outputId": "034a2aa4-777b-4e37-8207-7f79808952bb"
      },
      "execution_count": null,
      "outputs": [
        {
          "output_type": "execute_result",
          "data": {
            "text/plain": [
              "[0,\n",
              " 0,\n",
              " 0,\n",
              " 0,\n",
              " 0,\n",
              " 0,\n",
              " 0,\n",
              " 0,\n",
              " 0,\n",
              " 0,\n",
              " 0,\n",
              " 0,\n",
              " 0,\n",
              " 0,\n",
              " 0,\n",
              " 0,\n",
              " 0,\n",
              " 0,\n",
              " 0,\n",
              " 0,\n",
              " 0,\n",
              " 0,\n",
              " 0,\n",
              " 0,\n",
              " 0,\n",
              " 0,\n",
              " 0,\n",
              " 0,\n",
              " 0,\n",
              " 0,\n",
              " 0,\n",
              " 0,\n",
              " 0]"
            ]
          },
          "metadata": {},
          "execution_count": 51
        }
      ]
    },
    {
      "cell_type": "code",
      "source": [
        "print(input_normal_array.shape)"
      ],
      "metadata": {
        "id": "hlomVkH0jkHn",
        "colab": {
          "base_uri": "https://localhost:8080/"
        },
        "outputId": "1c3dabd4-ca8d-412a-8d88-f98c1fb83fdf"
      },
      "execution_count": null,
      "outputs": [
        {
          "output_type": "stream",
          "name": "stdout",
          "text": [
            "(33, 36900, 5)\n"
          ]
        }
      ]
    },
    {
      "cell_type": "code",
      "source": [
        "input_normal_array[0].shape"
      ],
      "metadata": {
        "colab": {
          "base_uri": "https://localhost:8080/"
        },
        "id": "BlMyGfDptkki",
        "outputId": "dbbdd124-fb26-450f-ee00-56fe6dcc719d"
      },
      "execution_count": null,
      "outputs": [
        {
          "output_type": "execute_result",
          "data": {
            "text/plain": [
              "(36900, 5)"
            ]
          },
          "metadata": {},
          "execution_count": 58
        }
      ]
    },
    {
      "cell_type": "code",
      "source": [
        "print(input_abnormal_array.shape)"
      ],
      "metadata": {
        "colab": {
          "base_uri": "https://localhost:8080/"
        },
        "id": "mfVZnnuWv7kA",
        "outputId": "acc8a67e-cb45-4dcd-9758-1519a705aa21"
      },
      "execution_count": null,
      "outputs": [
        {
          "output_type": "stream",
          "name": "stdout",
          "text": [
            "(33, 69374, 5)\n"
          ]
        }
      ]
    },
    {
      "cell_type": "code",
      "source": [
        "input_abnormal_array[0].shape"
      ],
      "metadata": {
        "colab": {
          "base_uri": "https://localhost:8080/"
        },
        "id": "njPyQr0av7sr",
        "outputId": "63c83cd3-9511-45ff-f2ed-91054ea0b529"
      },
      "execution_count": null,
      "outputs": [
        {
          "output_type": "execute_result",
          "data": {
            "text/plain": [
              "(69374, 5)"
            ]
          },
          "metadata": {},
          "execution_count": 60
        }
      ]
    },
    {
      "cell_type": "code",
      "source": [
        "normal_classes = np.array(normal_classes)\n",
        "abnormal_classes = np.array(abnormal_classes)\n",
        "normal_classes.shape , abnormal_classes.shape"
      ],
      "metadata": {
        "id": "6EAlsv8ZxPcL",
        "colab": {
          "base_uri": "https://localhost:8080/"
        },
        "outputId": "5d8d53a0-2849-4be6-d7c9-bb9804eacaf6"
      },
      "execution_count": null,
      "outputs": [
        {
          "output_type": "execute_result",
          "data": {
            "text/plain": [
              "((33,), (33,))"
            ]
          },
          "metadata": {},
          "execution_count": 61
        }
      ]
    },
    {
      "cell_type": "code",
      "source": [
        "classes = np.array(classes)"
      ],
      "metadata": {
        "id": "V6JUUkS1zk1J"
      },
      "execution_count": null,
      "outputs": []
    },
    {
      "cell_type": "code",
      "source": [
        "from sklearn.model_selection import train_test_split as ttf \n",
        "x_train, x_test, y_train, y_test = ttf(input_array,classes,shuffle=True, random_state=42)\n"
      ],
      "metadata": {
        "id": "W029SIuhtnhj"
      },
      "execution_count": null,
      "outputs": []
    },
    {
      "cell_type": "code",
      "source": [
        "x_train.shape, x_test.shape, y_train.shape, y_test.shape"
      ],
      "metadata": {
        "colab": {
          "base_uri": "https://localhost:8080/"
        },
        "id": "puasjl5lzx82",
        "outputId": "e668ce5d-2435-481a-88a7-578f7f6016d1"
      },
      "execution_count": null,
      "outputs": [
        {
          "output_type": "execute_result",
          "data": {
            "text/plain": [
              "((49, 69374, 5), (17, 69374, 5), (49,), (17,))"
            ]
          },
          "metadata": {},
          "execution_count": 72
        }
      ]
    },
    {
      "cell_type": "code",
      "source": [
        "x_train.shape, x_test.shape, y_train.shape, y_test.shape"
      ],
      "metadata": {
        "colab": {
          "base_uri": "https://localhost:8080/"
        },
        "id": "P__Vy-32zJ-n",
        "outputId": "baa7c8f5-c4eb-40ac-8e26-8d2589ede5c3"
      },
      "execution_count": null,
      "outputs": [
        {
          "output_type": "execute_result",
          "data": {
            "text/plain": [
              "((24, 36900, 5), (9, 36900, 5), (24,), (9,))"
            ]
          },
          "metadata": {},
          "execution_count": 22
        }
      ]
    },
    {
      "cell_type": "code",
      "source": [
        "y_test"
      ],
      "metadata": {
        "colab": {
          "base_uri": "https://localhost:8080/"
        },
        "id": "Gj-hdCTw1Dkk",
        "outputId": "25eb5ff2-73e5-436b-9743-e0a7e2b06f16"
      },
      "execution_count": null,
      "outputs": [
        {
          "output_type": "execute_result",
          "data": {
            "text/plain": [
              "array([0, 0, 1, 0, 1, 0, 1, 1, 0, 1, 0, 1, 0, 1, 0, 1, 1])"
            ]
          },
          "metadata": {},
          "execution_count": 73
        }
      ]
    },
    {
      "cell_type": "code",
      "source": [
        "from keras.models import Sequential\n",
        "from keras.layers import Dense, Dropout\n",
        "from keras.layers import Embedding\n",
        "from keras.layers import LSTM\n",
        "\n",
        "# Retrieve from input array shape\n",
        "time_steps = x_train.shape[1]\n",
        "n_features = x_train.shape[2]\n",
        "\n",
        "# code for building an LSTM with 100 neurons and dropout.\n",
        "\n",
        "model = Sequential()\n",
        "model.add(LSTM(100, return_sequences=False, input_shape=(time_steps, n_features)))\n",
        "model.add(Dropout(0.5))\n",
        "#model.add(LSTM(100)) dramatically worse results\n",
        "model.add(Dense(1, activation='sigmoid'))\n",
        "\n",
        "model.compile(loss='binary_crossentropy',\n",
        "              optimizer='rmsprop',\n",
        "              metrics=['accuracy'])"
      ],
      "metadata": {
        "id": "6PPHZjEt11aX"
      },
      "execution_count": null,
      "outputs": []
    },
    {
      "cell_type": "code",
      "source": [
        "36900/16"
      ],
      "metadata": {
        "colab": {
          "base_uri": "https://localhost:8080/"
        },
        "id": "bHX35ksO2XnA",
        "outputId": "0fcd1904-a4c2-47b2-84f2-4f65d009f686"
      },
      "execution_count": null,
      "outputs": [
        {
          "output_type": "execute_result",
          "data": {
            "text/plain": [
              "2306.25"
            ]
          },
          "metadata": {},
          "execution_count": 77
        }
      ]
    },
    {
      "cell_type": "code",
      "source": [
        "model.fit(x_train, y_train, batch_size=16, epochs=20)"
      ],
      "metadata": {
        "colab": {
          "base_uri": "https://localhost:8080/"
        },
        "id": "iYahbqtzz_V0",
        "outputId": "4ba3bc35-c133-4198-eb1b-c1494ad92f0d"
      },
      "execution_count": null,
      "outputs": [
        {
          "output_type": "stream",
          "name": "stdout",
          "text": [
            "Epoch 1/20\n",
            "4/4 [==============================] - 101s 24s/step - loss: 0.6980 - accuracy: 0.4082\n",
            "Epoch 2/20\n",
            "4/4 [==============================] - 94s 22s/step - loss: 0.6924 - accuracy: 0.4898\n",
            "Epoch 3/20\n",
            "4/4 [==============================] - 95s 23s/step - loss: 0.6866 - accuracy: 0.5306\n",
            "Epoch 4/20\n",
            "4/4 [==============================] - 94s 23s/step - loss: 0.6850 - accuracy: 0.4898\n",
            "Epoch 5/20\n",
            "4/4 [==============================] - 94s 22s/step - loss: 0.6932 - accuracy: 0.4898\n",
            "Epoch 6/20\n",
            "4/4 [==============================] - 94s 22s/step - loss: 0.6850 - accuracy: 0.5102\n",
            "Epoch 7/20\n",
            "4/4 [==============================] - 96s 23s/step - loss: 0.6872 - accuracy: 0.4286\n",
            "Epoch 8/20\n",
            "4/4 [==============================] - 93s 22s/step - loss: 0.6868 - accuracy: 0.5102\n",
            "Epoch 9/20\n",
            "4/4 [==============================] - 93s 22s/step - loss: 0.6875 - accuracy: 0.6327\n",
            "Epoch 10/20\n",
            "4/4 [==============================] - 93s 22s/step - loss: 0.6814 - accuracy: 0.5306\n",
            "Epoch 11/20\n",
            "4/4 [==============================] - 93s 22s/step - loss: 0.6833 - accuracy: 0.5102\n",
            "Epoch 12/20\n",
            "4/4 [==============================] - 93s 22s/step - loss: 0.6814 - accuracy: 0.5102\n",
            "Epoch 13/20\n",
            "4/4 [==============================] - 92s 22s/step - loss: 0.6845 - accuracy: 0.4490\n",
            "Epoch 14/20\n",
            "4/4 [==============================] - 93s 22s/step - loss: 0.6920 - accuracy: 0.5102\n",
            "Epoch 15/20\n",
            "4/4 [==============================] - 92s 22s/step - loss: 0.6817 - accuracy: 0.4898\n",
            "Epoch 16/20\n",
            "4/4 [==============================] - 92s 22s/step - loss: 0.6803 - accuracy: 0.4286\n",
            "Epoch 17/20\n",
            "4/4 [==============================] - 92s 22s/step - loss: 0.6800 - accuracy: 0.4286\n",
            "Epoch 18/20\n",
            "4/4 [==============================] - 93s 22s/step - loss: 0.6814 - accuracy: 0.5102\n",
            "Epoch 19/20\n",
            "4/4 [==============================] - 92s 22s/step - loss: 0.6832 - accuracy: 0.5102\n",
            "Epoch 20/20\n",
            "4/4 [==============================] - 92s 22s/step - loss: 0.6812 - accuracy: 0.5102\n"
          ]
        },
        {
          "output_type": "execute_result",
          "data": {
            "text/plain": [
              "<keras.callbacks.History at 0x7f527f511a90>"
            ]
          },
          "metadata": {},
          "execution_count": 78
        }
      ]
    },
    {
      "cell_type": "code",
      "source": [
        "model.save('modellstm.h5')"
      ],
      "metadata": {
        "id": "x5Ot4vdO7vNn"
      },
      "execution_count": null,
      "outputs": []
    },
    {
      "cell_type": "code",
      "source": [
        "! cp '/content/modellstm.h5' '/content/drive/MyDrive/SEMG_DB1'"
      ],
      "metadata": {
        "id": "PmdD_itq8AB4"
      },
      "execution_count": null,
      "outputs": []
    },
    {
      "cell_type": "code",
      "source": [
        "History.key()"
      ],
      "metadata": {
        "id": "WTkAxtD18NDA",
        "outputId": "8611b5da-2f7f-431a-f38f-66cb727e687f",
        "colab": {
          "base_uri": "https://localhost:8080/",
          "height": 165
        }
      },
      "execution_count": null,
      "outputs": [
        {
          "output_type": "error",
          "ename": "NameError",
          "evalue": "ignored",
          "traceback": [
            "\u001b[0;31m---------------------------------------------------------------------------\u001b[0m",
            "\u001b[0;31mNameError\u001b[0m                                 Traceback (most recent call last)",
            "\u001b[0;32m<ipython-input-83-6e33f2db91be>\u001b[0m in \u001b[0;36m<module>\u001b[0;34m\u001b[0m\n\u001b[0;32m----> 1\u001b[0;31m \u001b[0mHistory\u001b[0m\u001b[0;34m.\u001b[0m\u001b[0mkey\u001b[0m\u001b[0;34m(\u001b[0m\u001b[0;34m)\u001b[0m\u001b[0;34m\u001b[0m\u001b[0;34m\u001b[0m\u001b[0m\n\u001b[0m",
            "\u001b[0;31mNameError\u001b[0m: name 'History' is not defined"
          ]
        }
      ]
    },
    {
      "cell_type": "code",
      "source": [
        "\n",
        "class sEMGData:\n",
        "\n",
        "    def __init__(self, path):\n",
        "        self.path = path\n",
        "\n",
        "        # file name\n",
        "        f = open(path, 'r')\n",
        "        basename = os.path.basename(f.name)\n",
        "\n",
        "        if 'mar' in basename:\n",
        "            self.output = 'mar'\n",
        "        elif 'pie' in basename:\n",
        "            self.output = 'pie'\n",
        "        elif 'sen' in basename:\n",
        "            self.output = 'sen'\n",
        "\n",
        "        # invalid_raise - sk\n",
        "        # numpy array\n",
        "        self.array = np.genfromtxt(self.path, skip_header=7, invalid_raise=False)\n",
        "        # DataFrame\n",
        "        self.dataframe = pd.DataFrame(self.array, columns=['RF','BF','VM','ST','FX'])\n",
        "\n",
        "    def return_array(self):\n",
        "\n",
        "        return self.array\n",
        "\n",
        "    def return_df(self):\n",
        "\n",
        "        return self.dataframe\n",
        "\n",
        "    def return_output(self):\n",
        "        return self.output\n",
        "\n",
        "    def plot_RF(self):\n",
        "\n",
        "        plt.plot(self.dataframe['RF'])\n",
        "        plt.title('RF - rectus femoris')\n",
        "        plt.show()\n",
        "\n",
        "    def plot_BF(self):\n",
        "\n",
        "        plt.plot(self.dataframe['BF'])\n",
        "        plt.title('BF - biceps femoris')\n",
        "        plt.show()\n",
        "\n",
        "    def plot_VM(self):\n",
        "\n",
        "        plt.plot(self.dataframe['VM'])\n",
        "        plt.title('VM - vastus internus')\n",
        "        plt.show()\n",
        "\n",
        "    def plot_ST(self):\n",
        "\n",
        "        plt.plot(self.dataframe['ST'])\n",
        "        plt.title('ST - semitendinosus')\n",
        "        plt.show()\n",
        "\n",
        "    def plot_FX(self):\n",
        "\n",
        "        plt.plot(self.dataframe['FX'])\n",
        "        plt.title('FX - knee flexion ()')\n",
        "        plt.show()\n",
        "\n",
        "    def sEMG_plot(self):\n",
        "\n",
        "        # Plot individual sEMG data\n",
        "\n",
        "        plt.plot(self.dataframe['RF'])\n",
        "        plt.title('RF - rectus femoris')\n",
        "        plt.show()\n",
        "\n",
        "        plt.plot(self.dataframe['BF'])\n",
        "        plt.title('BF - biceps femoris')\n",
        "        plt.show()\n",
        "\n",
        "        plt.plot(self.dataframe['VM'])\n",
        "        plt.title('VM - vastus internus')\n",
        "        plt.show()\n",
        "\n",
        "        plt.plot(self.dataframe['ST'])\n",
        "        plt.title('ST - semitendinosus')\n",
        "        plt.show()\n",
        "\n",
        "        plt.plot(self.dataframe['FX'])\n",
        "        plt.title('FX - knee flexion ()')\n",
        "        plt.show()\n",
        "\n",
        "# Preprocessing Function\n",
        "\n",
        "def preprocess(folder):\n",
        "\n",
        "    input_array = []\n",
        "    classes = []\n",
        "\n",
        "    # iterates through folder\n",
        "    for filename in os.listdir(folder):\n",
        "        if filename.endswith('.txt'):\n",
        "            # instantiates each sEMG data\n",
        "            sEMG = sEMGData(folder + filename)\n",
        "\n",
        "            input_array.append(sEMG.return_array())\n",
        "            classes.append(sEMG.return_output())\n",
        "\n",
        "    # finds the max length of a sEMG sequence\n",
        "    max_len = max([len(i) for i in input_array])\n",
        "\n",
        "    for i in input_array:\n",
        "        if (len(i) == max_len):\n",
        "            largest_array = i\n",
        "\n",
        "    # list of padded sEMG numpy arrays\n",
        "    padded_array = []\n",
        "\n",
        "    # loop through input_array and append into new padded array\n",
        "    for i in input_array:\n",
        "        # zero numpy array\n",
        "        zero_array = np.zeros(largest_array.shape)\n",
        "        zero_array[:i.shape[0],:i.shape[1]] = i\n",
        "\n",
        "        padded_array.append(zero_array)\n",
        "\n",
        "    # convert to 3d numpy array\n",
        "    padded_array = np.dstack(padded_array)\n",
        "\n",
        "    # transpose array\n",
        "    padded_array = padded_array.transpose(2,0,1)\n",
        "\n",
        "    return padded_array, classes\n",
        "    \n",
        "# Plotting function - based on muscle group\n",
        "\n",
        "def plot_dataset(input_array, class_array, muscle_group):\n",
        "    for i in range(0, len(input_array)):\n",
        "\n",
        "        df = pd.DataFrame(input_array[i], columns=['RF','BF','VM','ST','FX'])\n",
        "\n",
        "        # show plot of each rectus femoris sEMG data\n",
        "        plt.plot(df[muscle_group])\n",
        "        plt.title(muscle_group + ' - ' + class_array[i])\n",
        "        plt.show()"
      ],
      "metadata": {
        "id": "9kCG6JDA2NBk"
      },
      "execution_count": null,
      "outputs": []
    },
    {
      "cell_type": "markdown",
      "source": [
        "## MOdel based github"
      ],
      "metadata": {
        "id": "CEs1HCqHnq52"
      }
    },
    {
      "cell_type": "code",
      "source": [
        "mm = np.loadtxt(\n",
        "    '/content/drive/MyDrive/SEMG_DB1/A_TXT/10Amar.txt',\n",
        "    dtype= 'float',\n",
        "    comments='#',\n",
        "    delimiter=None,\n",
        "    converters=None,\n",
        "    skiprows=7,\n",
        "    usecols=(0,1,2,3,4),\n",
        "    unpack=False,\n",
        "    ndmin=0\n",
        ")"
      ],
      "metadata": {
        "id": "byuFAu4mnwPm"
      },
      "execution_count": null,
      "outputs": []
    },
    {
      "cell_type": "code",
      "source": [
        "mm"
      ],
      "metadata": {
        "colab": {
          "base_uri": "https://localhost:8080/"
        },
        "id": "g3kOkuQ-n7e_",
        "outputId": "f57aa509-8d7b-4fa1-bb75-8ba76da354fd"
      },
      "execution_count": null,
      "outputs": [
        {
          "output_type": "execute_result",
          "data": {
            "text/plain": [
              "array([[-4.60e-03, -2.30e-03,  0.00e+00,  7.00e-04,  1.15e+01],\n",
              "       [-1.05e-02, -6.80e-03, -4.60e-03,  3.00e-03,  1.03e+01],\n",
              "       [-8.30e-03, -4.60e-03, -4.60e-03,  2.20e-03,  1.05e+01],\n",
              "       ...,\n",
              "       [ 0.00e+00,  7.00e-04, -4.60e-03, -8.00e-04,  2.73e+01],\n",
              "       [ 0.00e+00, -3.00e-03, -5.30e-03, -5.30e-03,  2.69e+01],\n",
              "       [-8.00e-04, -1.20e-02, -5.30e-03,  1.65e-02,  2.69e+01]])"
            ]
          },
          "metadata": {},
          "execution_count": 8
        }
      ]
    },
    {
      "cell_type": "code",
      "source": [
        "import pandas as pd\n",
        "from io import StringIO\n",
        "import io\n",
        "from keras.models import Sequential\n",
        "from keras.layers import LSTM, Dense\n",
        "import numpy as np\n",
        "from sklearn.preprocessing import LabelEncoder\n"
      ],
      "metadata": {
        "id": "zOH1MyXxnxRf"
      },
      "execution_count": null,
      "outputs": []
    },
    {
      "cell_type": "code",
      "source": [
        "\n",
        "data=\"\"\"SubjectID,Feat_1,Feat_2,Feat_X,Hr_count,Label\n",
        "s0001,89,31,43,1,0\n",
        "s0001,94,32,68,2,0\n",
        "s0001,38,90,86,3,0\n",
        "s0001,79,34,78,4,1\n",
        "s0001,85,24,70,5,1\n",
        "s0002,7 ,9 ,32,1,0\n",
        "s0002,60,56,72,2,0\n",
        "s0002,68,72,23,3,0\n",
        "s0003,26,88,1 ,1,0\n",
        "s0004,45,27,22,1,0\n",
        "s0004,10,80,67,2,0\n",
        "s0004,71,48,21,3,0\n",
        "s0004,58,9 ,60,4,1\n",
        "\"\"\"\n",
        "\n",
        "df=pd.read_csv(io.StringIO(data),sep=\",\")\n",
        "df.drop(columns='Hr_count',inplace=True)\n",
        "encoder=LabelEncoder()\n",
        "df['SubjectID']=encoder.fit_transform(df['SubjectID'])\n",
        "\n",
        "print(df)\n",
        "\n",
        "X_columns=[x for x in df.columns if x!='Label']\n",
        "print(X_columns)\n",
        "features=len(X_columns)\n",
        "model = Sequential()\n",
        "model.add(LSTM(100, activation='tanh', return_sequences=True, input_shape=(1, features)))\n",
        "model.add(LSTM(49, activation='tanh'))\n",
        "model.add(Dense(1, activation='sigmoid'))\n",
        "history=model.compile(optimizer=\"rmsprop\", loss='binary_crossentropy', metrics=['accuracy'])\n",
        "\n",
        "\n",
        "grouped=df.groupby('SubjectID')"
      ],
      "metadata": {
        "colab": {
          "base_uri": "https://localhost:8080/"
        },
        "id": "sKa9Fd-fy8wH",
        "outputId": "173cb66c-d4b0-46ea-d291-486abc0fc7c5"
      },
      "execution_count": null,
      "outputs": [
        {
          "output_type": "stream",
          "name": "stdout",
          "text": [
            "    SubjectID  Feat_1  Feat_2  Feat_X  Label\n",
            "0           0      89      31      43      0\n",
            "1           0      94      32      68      0\n",
            "2           0      38      90      86      0\n",
            "3           0      79      34      78      1\n",
            "4           0      85      24      70      1\n",
            "5           1       7       9      32      0\n",
            "6           1      60      56      72      0\n",
            "7           1      68      72      23      0\n",
            "8           2      26      88       1      0\n",
            "9           3      45      27      22      0\n",
            "10          3      10      80      67      0\n",
            "11          3      71      48      21      0\n",
            "12          3      58       9      60      1\n",
            "['SubjectID', 'Feat_1', 'Feat_2', 'Feat_X']\n"
          ]
        }
      ]
    },
    {
      "cell_type": "code",
      "source": [
        "for group in grouped:\n",
        "    df_batch=pd.DataFrame(columns=['SubjectID','Feat_1','Feat_2','Feat_X','Hr_count','Label'])\n",
        "    for subjectID in group:\n",
        "        filter=df['SubjectID']==subjectID \n",
        "        for key,item in df[filter].dropna().iterrows():\n",
        "            df_batch=df_batch.append({'SubjectID':item['SubjectID'],'Feat_1':item['Feat_1'],'Feat_2':item['Feat_2'],'Feat_X':item['Feat_X'],'Label':item['Label']},ignore_index=True)\n",
        "    #print(\"\\n\",df_batch)\n",
        "    X=df_batch[X_columns]\n",
        "    X = np.asarray(X).astype(np.float32)\n",
        "    X = np.resize(X,(X.shape[0],1,X.shape[1]))\n",
        "    y=df_batch['Label']\n",
        "    y = np.asarray(y).astype(np.float32)\n",
        "    print(\"\\n\",X)\n",
        "    model.fit(X,y,batch_size=len(X), \n",
        "          epochs=10)\n"
      ],
      "metadata": {
        "colab": {
          "base_uri": "https://localhost:8080/"
        },
        "id": "3KQIgKCFzPqd",
        "outputId": "1c02dba7-880f-4aad-c5be-aca95b79c589"
      },
      "execution_count": null,
      "outputs": [
        {
          "output_type": "stream",
          "name": "stderr",
          "text": [
            "<ipython-input-3-8d221dcc1cb4>:4: FutureWarning: Automatic reindexing on DataFrame vs Series comparisons is deprecated and will raise ValueError in a future version.  Do `left, right = left.align(right, axis=1, copy=False)` before e.g. `left == right`\n",
            "  filter=df['SubjectID']==subjectID\n"
          ]
        },
        {
          "output_type": "stream",
          "name": "stdout",
          "text": [
            "\n",
            " [[[ 0. 89. 31. 43.]]\n",
            "\n",
            " [[ 0. 94. 32. 68.]]\n",
            "\n",
            " [[ 0. 38. 90. 86.]]\n",
            "\n",
            " [[ 0. 79. 34. 78.]]\n",
            "\n",
            " [[ 0. 85. 24. 70.]]]\n",
            "Epoch 1/10\n",
            "1/1 [==============================] - 5s 5s/step - loss: 0.6989 - accuracy: 0.4000\n",
            "Epoch 2/10\n",
            "1/1 [==============================] - 0s 11ms/step - loss: 0.6715 - accuracy: 0.6000\n",
            "Epoch 3/10\n",
            "1/1 [==============================] - 0s 11ms/step - loss: 0.6519 - accuracy: 0.8000\n",
            "Epoch 4/10\n",
            "1/1 [==============================] - 0s 14ms/step - loss: 0.6332 - accuracy: 0.8000\n",
            "Epoch 5/10\n",
            "1/1 [==============================] - 0s 13ms/step - loss: 0.6133 - accuracy: 1.0000\n",
            "Epoch 6/10\n",
            "1/1 [==============================] - 0s 10ms/step - loss: 0.5909 - accuracy: 1.0000\n",
            "Epoch 7/10\n",
            "1/1 [==============================] - 0s 10ms/step - loss: 0.5659 - accuracy: 1.0000\n",
            "Epoch 8/10\n",
            "1/1 [==============================] - 0s 11ms/step - loss: 0.5400 - accuracy: 1.0000\n",
            "Epoch 9/10\n",
            "1/1 [==============================] - 0s 19ms/step - loss: 0.5141 - accuracy: 1.0000\n",
            "Epoch 10/10\n",
            "1/1 [==============================] - 0s 10ms/step - loss: 0.4872 - accuracy: 1.0000\n",
            "\n",
            " [[[ 1.  7.  9. 32.]]\n",
            "\n",
            " [[ 1. 60. 56. 72.]]\n",
            "\n",
            " [[ 1. 68. 72. 23.]]]\n",
            "Epoch 1/10\n",
            "1/1 [==============================] - 2s 2s/step - loss: 0.5112 - accuracy: 1.0000\n",
            "Epoch 2/10\n",
            "1/1 [==============================] - 0s 13ms/step - loss: 0.4071 - accuracy: 1.0000\n",
            "Epoch 3/10\n",
            "1/1 [==============================] - 0s 13ms/step - loss: 0.3447 - accuracy: 1.0000\n",
            "Epoch 4/10\n",
            "1/1 [==============================] - 0s 13ms/step - loss: 0.2977 - accuracy: 1.0000\n",
            "Epoch 5/10\n",
            "1/1 [==============================] - 0s 13ms/step - loss: 0.2592 - accuracy: 1.0000\n",
            "Epoch 6/10\n",
            "1/1 [==============================] - 0s 11ms/step - loss: 0.2265 - accuracy: 1.0000\n",
            "Epoch 7/10\n",
            "1/1 [==============================] - 0s 13ms/step - loss: 0.1984 - accuracy: 1.0000\n",
            "Epoch 8/10\n",
            "1/1 [==============================] - 0s 14ms/step - loss: 0.1740 - accuracy: 1.0000\n",
            "Epoch 9/10\n",
            "1/1 [==============================] - 0s 15ms/step - loss: 0.1530 - accuracy: 1.0000\n",
            "Epoch 10/10\n",
            "1/1 [==============================] - 0s 12ms/step - loss: 0.1348 - accuracy: 1.0000\n",
            "\n",
            " [[[ 2. 26. 88.  1.]]]\n",
            "Epoch 1/10\n",
            "1/1 [==============================] - 0s 17ms/step - loss: 0.2637 - accuracy: 1.0000\n",
            "Epoch 2/10\n",
            "1/1 [==============================] - 0s 10ms/step - loss: 0.2033 - accuracy: 1.0000\n",
            "Epoch 3/10\n",
            "1/1 [==============================] - 0s 10ms/step - loss: 0.1647 - accuracy: 1.0000\n",
            "Epoch 4/10\n",
            "1/1 [==============================] - 0s 24ms/step - loss: 0.1360 - accuracy: 1.0000\n",
            "Epoch 5/10\n",
            "1/1 [==============================] - 0s 15ms/step - loss: 0.1138 - accuracy: 1.0000\n",
            "Epoch 6/10\n",
            "1/1 [==============================] - 0s 15ms/step - loss: 0.0969 - accuracy: 1.0000\n",
            "Epoch 7/10\n",
            "1/1 [==============================] - 0s 15ms/step - loss: 0.0840 - accuracy: 1.0000\n",
            "Epoch 8/10\n",
            "1/1 [==============================] - 0s 16ms/step - loss: 0.0736 - accuracy: 1.0000\n",
            "Epoch 9/10\n",
            "1/1 [==============================] - 0s 12ms/step - loss: 0.0650 - accuracy: 1.0000\n",
            "Epoch 10/10\n",
            "1/1 [==============================] - 0s 10ms/step - loss: 0.0577 - accuracy: 1.0000\n",
            "\n",
            " [[[ 3. 45. 27. 22.]]\n",
            "\n",
            " [[ 3. 10. 80. 67.]]\n",
            "\n",
            " [[ 3. 71. 48. 21.]]\n",
            "\n",
            " [[ 3. 58.  9. 60.]]]\n",
            "Epoch 1/10\n",
            "1/1 [==============================] - 0s 18ms/step - loss: 0.3153 - accuracy: 0.7500\n",
            "Epoch 2/10\n",
            "1/1 [==============================] - 0s 16ms/step - loss: 0.2209 - accuracy: 0.7500\n",
            "Epoch 3/10\n",
            "1/1 [==============================] - 0s 15ms/step - loss: 0.1801 - accuracy: 1.0000\n",
            "Epoch 4/10\n",
            "1/1 [==============================] - 0s 13ms/step - loss: 0.1542 - accuracy: 1.0000\n",
            "Epoch 5/10\n",
            "1/1 [==============================] - 0s 14ms/step - loss: 0.1359 - accuracy: 1.0000\n",
            "Epoch 6/10\n",
            "1/1 [==============================] - 0s 11ms/step - loss: 0.1218 - accuracy: 1.0000\n",
            "Epoch 7/10\n",
            "1/1 [==============================] - 0s 14ms/step - loss: 0.1101 - accuracy: 1.0000\n",
            "Epoch 8/10\n",
            "1/1 [==============================] - 0s 12ms/step - loss: 0.1002 - accuracy: 1.0000\n",
            "Epoch 9/10\n",
            "1/1 [==============================] - 0s 14ms/step - loss: 0.0915 - accuracy: 1.0000\n",
            "Epoch 10/10\n",
            "1/1 [==============================] - 0s 11ms/step - loss: 0.0839 - accuracy: 1.0000\n"
          ]
        }
      ]
    },
    {
      "cell_type": "code",
      "source": [],
      "metadata": {
        "id": "FwMWB2vCz5TN"
      },
      "execution_count": null,
      "outputs": []
    }
  ]
}